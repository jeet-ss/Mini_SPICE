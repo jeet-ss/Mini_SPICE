{
 "cells": [
  {
   "cell_type": "code",
   "execution_count": 2,
   "id": "c937d273-9d48-4ebf-9373-62df60e11032",
   "metadata": {
    "tags": []
   },
   "outputs": [],
   "source": [
    "import pandas as pd\n",
    "from torch.utils.data import DataLoader\n",
    "from data_files.dataset import CQT_Dataset_test\n",
    "import torch\n",
    "from utils.model import Spice_model\n",
    "import numpy as np"
   ]
  },
  {
   "cell_type": "code",
   "execution_count": 3,
   "id": "fa1ff30f-340d-4be4-ae0d-11663586c8a4",
   "metadata": {},
   "outputs": [],
   "source": [
    "mir_test_data = pd.read_pickle(\"./data_test/MIR1k.pkl\") "
   ]
  },
  {
   "cell_type": "code",
   "execution_count": 4,
   "id": "a4869610-1f48-4538-ae3e-b495cc362cdb",
   "metadata": {
    "tags": []
   },
   "outputs": [
    {
     "data": {
      "text/html": [
       "<div>\n",
       "<style scoped>\n",
       "    .dataframe tbody tr th:only-of-type {\n",
       "        vertical-align: middle;\n",
       "    }\n",
       "\n",
       "    .dataframe tbody tr th {\n",
       "        vertical-align: top;\n",
       "    }\n",
       "\n",
       "    .dataframe thead th {\n",
       "        text-align: right;\n",
       "    }\n",
       "</style>\n",
       "<table border=\"1\" class=\"dataframe\">\n",
       "  <thead>\n",
       "    <tr style=\"text-align: right;\">\n",
       "      <th></th>\n",
       "      <th>0</th>\n",
       "      <th>1</th>\n",
       "      <th>2</th>\n",
       "      <th>3</th>\n",
       "      <th>4</th>\n",
       "      <th>5</th>\n",
       "      <th>6</th>\n",
       "      <th>7</th>\n",
       "      <th>8</th>\n",
       "      <th>9</th>\n",
       "      <th>...</th>\n",
       "      <th>183</th>\n",
       "      <th>184</th>\n",
       "      <th>185</th>\n",
       "      <th>186</th>\n",
       "      <th>187</th>\n",
       "      <th>188</th>\n",
       "      <th>189</th>\n",
       "      <th>190</th>\n",
       "      <th>191</th>\n",
       "      <th>192</th>\n",
       "    </tr>\n",
       "  </thead>\n",
       "  <tbody>\n",
       "    <tr>\n",
       "      <th>0</th>\n",
       "      <td>0.000</td>\n",
       "      <td>0.004339</td>\n",
       "      <td>0.006039</td>\n",
       "      <td>0.009540</td>\n",
       "      <td>0.012700</td>\n",
       "      <td>0.012407</td>\n",
       "      <td>0.010001</td>\n",
       "      <td>0.008643</td>\n",
       "      <td>0.008276</td>\n",
       "      <td>0.007767</td>\n",
       "      <td>...</td>\n",
       "      <td>0.000153</td>\n",
       "      <td>0.000165</td>\n",
       "      <td>0.000164</td>\n",
       "      <td>0.000155</td>\n",
       "      <td>0.000151</td>\n",
       "      <td>0.000159</td>\n",
       "      <td>0.000168</td>\n",
       "      <td>0.000164</td>\n",
       "      <td>0.0</td>\n",
       "      <td>0.000000</td>\n",
       "    </tr>\n",
       "    <tr>\n",
       "      <th>1</th>\n",
       "      <td>0.032</td>\n",
       "      <td>0.004647</td>\n",
       "      <td>0.006073</td>\n",
       "      <td>0.009980</td>\n",
       "      <td>0.014301</td>\n",
       "      <td>0.013825</td>\n",
       "      <td>0.010343</td>\n",
       "      <td>0.009158</td>\n",
       "      <td>0.008959</td>\n",
       "      <td>0.008272</td>\n",
       "      <td>...</td>\n",
       "      <td>0.000036</td>\n",
       "      <td>0.000024</td>\n",
       "      <td>0.000039</td>\n",
       "      <td>0.000061</td>\n",
       "      <td>0.000061</td>\n",
       "      <td>0.000081</td>\n",
       "      <td>0.000088</td>\n",
       "      <td>0.000068</td>\n",
       "      <td>0.0</td>\n",
       "      <td>0.000000</td>\n",
       "    </tr>\n",
       "    <tr>\n",
       "      <th>2</th>\n",
       "      <td>0.064</td>\n",
       "      <td>0.004902</td>\n",
       "      <td>0.006037</td>\n",
       "      <td>0.010141</td>\n",
       "      <td>0.015858</td>\n",
       "      <td>0.015103</td>\n",
       "      <td>0.010261</td>\n",
       "      <td>0.009526</td>\n",
       "      <td>0.009474</td>\n",
       "      <td>0.008453</td>\n",
       "      <td>...</td>\n",
       "      <td>0.000062</td>\n",
       "      <td>0.000068</td>\n",
       "      <td>0.000063</td>\n",
       "      <td>0.000029</td>\n",
       "      <td>0.000041</td>\n",
       "      <td>0.000046</td>\n",
       "      <td>0.000042</td>\n",
       "      <td>0.000028</td>\n",
       "      <td>0.0</td>\n",
       "      <td>0.000000</td>\n",
       "    </tr>\n",
       "    <tr>\n",
       "      <th>3</th>\n",
       "      <td>0.096</td>\n",
       "      <td>0.005066</td>\n",
       "      <td>0.005998</td>\n",
       "      <td>0.009985</td>\n",
       "      <td>0.017362</td>\n",
       "      <td>0.016220</td>\n",
       "      <td>0.009778</td>\n",
       "      <td>0.009759</td>\n",
       "      <td>0.009816</td>\n",
       "      <td>0.008290</td>\n",
       "      <td>...</td>\n",
       "      <td>0.000169</td>\n",
       "      <td>0.000419</td>\n",
       "      <td>0.000270</td>\n",
       "      <td>0.000126</td>\n",
       "      <td>0.000104</td>\n",
       "      <td>0.000052</td>\n",
       "      <td>0.000077</td>\n",
       "      <td>0.000149</td>\n",
       "      <td>1.0</td>\n",
       "      <td>119.626230</td>\n",
       "    </tr>\n",
       "    <tr>\n",
       "      <th>4</th>\n",
       "      <td>0.128</td>\n",
       "      <td>0.005128</td>\n",
       "      <td>0.006015</td>\n",
       "      <td>0.009505</td>\n",
       "      <td>0.018816</td>\n",
       "      <td>0.017146</td>\n",
       "      <td>0.008939</td>\n",
       "      <td>0.009824</td>\n",
       "      <td>0.009996</td>\n",
       "      <td>0.007773</td>\n",
       "      <td>...</td>\n",
       "      <td>0.000283</td>\n",
       "      <td>0.000087</td>\n",
       "      <td>0.000316</td>\n",
       "      <td>0.000283</td>\n",
       "      <td>0.000053</td>\n",
       "      <td>0.000029</td>\n",
       "      <td>0.000184</td>\n",
       "      <td>0.000038</td>\n",
       "      <td>1.0</td>\n",
       "      <td>156.307519</td>\n",
       "    </tr>\n",
       "    <tr>\n",
       "      <th>...</th>\n",
       "      <td>...</td>\n",
       "      <td>...</td>\n",
       "      <td>...</td>\n",
       "      <td>...</td>\n",
       "      <td>...</td>\n",
       "      <td>...</td>\n",
       "      <td>...</td>\n",
       "      <td>...</td>\n",
       "      <td>...</td>\n",
       "      <td>...</td>\n",
       "      <td>...</td>\n",
       "      <td>...</td>\n",
       "      <td>...</td>\n",
       "      <td>...</td>\n",
       "      <td>...</td>\n",
       "      <td>...</td>\n",
       "      <td>...</td>\n",
       "      <td>...</td>\n",
       "      <td>...</td>\n",
       "      <td>...</td>\n",
       "      <td>...</td>\n",
       "    </tr>\n",
       "    <tr>\n",
       "      <th>251087</th>\n",
       "      <td>7.232</td>\n",
       "      <td>0.016996</td>\n",
       "      <td>0.024627</td>\n",
       "      <td>0.025763</td>\n",
       "      <td>0.022843</td>\n",
       "      <td>0.016272</td>\n",
       "      <td>0.014689</td>\n",
       "      <td>0.033259</td>\n",
       "      <td>0.042570</td>\n",
       "      <td>0.033413</td>\n",
       "      <td>...</td>\n",
       "      <td>0.001452</td>\n",
       "      <td>0.000392</td>\n",
       "      <td>0.000755</td>\n",
       "      <td>0.002354</td>\n",
       "      <td>0.001939</td>\n",
       "      <td>0.000348</td>\n",
       "      <td>0.000117</td>\n",
       "      <td>0.000349</td>\n",
       "      <td>1.0</td>\n",
       "      <td>0.000000</td>\n",
       "    </tr>\n",
       "    <tr>\n",
       "      <th>251088</th>\n",
       "      <td>7.264</td>\n",
       "      <td>0.015188</td>\n",
       "      <td>0.022720</td>\n",
       "      <td>0.023012</td>\n",
       "      <td>0.019354</td>\n",
       "      <td>0.013047</td>\n",
       "      <td>0.010927</td>\n",
       "      <td>0.029718</td>\n",
       "      <td>0.038772</td>\n",
       "      <td>0.030509</td>\n",
       "      <td>...</td>\n",
       "      <td>0.000944</td>\n",
       "      <td>0.000356</td>\n",
       "      <td>0.000100</td>\n",
       "      <td>0.000186</td>\n",
       "      <td>0.000224</td>\n",
       "      <td>0.000131</td>\n",
       "      <td>0.000146</td>\n",
       "      <td>0.000273</td>\n",
       "      <td>0.0</td>\n",
       "      <td>0.000000</td>\n",
       "    </tr>\n",
       "    <tr>\n",
       "      <th>251089</th>\n",
       "      <td>7.296</td>\n",
       "      <td>0.013305</td>\n",
       "      <td>0.020496</td>\n",
       "      <td>0.019982</td>\n",
       "      <td>0.015793</td>\n",
       "      <td>0.010059</td>\n",
       "      <td>0.007795</td>\n",
       "      <td>0.025998</td>\n",
       "      <td>0.034271</td>\n",
       "      <td>0.027372</td>\n",
       "      <td>...</td>\n",
       "      <td>0.000245</td>\n",
       "      <td>0.000061</td>\n",
       "      <td>0.000049</td>\n",
       "      <td>0.000027</td>\n",
       "      <td>0.000074</td>\n",
       "      <td>0.000071</td>\n",
       "      <td>0.000051</td>\n",
       "      <td>0.000050</td>\n",
       "      <td>0.0</td>\n",
       "      <td>0.000000</td>\n",
       "    </tr>\n",
       "    <tr>\n",
       "      <th>251090</th>\n",
       "      <td>7.328</td>\n",
       "      <td>0.011442</td>\n",
       "      <td>0.018007</td>\n",
       "      <td>0.016781</td>\n",
       "      <td>0.012372</td>\n",
       "      <td>0.007500</td>\n",
       "      <td>0.005803</td>\n",
       "      <td>0.022253</td>\n",
       "      <td>0.029385</td>\n",
       "      <td>0.024091</td>\n",
       "      <td>...</td>\n",
       "      <td>0.000109</td>\n",
       "      <td>0.000050</td>\n",
       "      <td>0.000045</td>\n",
       "      <td>0.000013</td>\n",
       "      <td>0.000049</td>\n",
       "      <td>0.000024</td>\n",
       "      <td>0.000034</td>\n",
       "      <td>0.000038</td>\n",
       "      <td>0.0</td>\n",
       "      <td>0.000000</td>\n",
       "    </tr>\n",
       "    <tr>\n",
       "      <th>251091</th>\n",
       "      <td>7.360</td>\n",
       "      <td>0.009690</td>\n",
       "      <td>0.015348</td>\n",
       "      <td>0.013547</td>\n",
       "      <td>0.009274</td>\n",
       "      <td>0.005581</td>\n",
       "      <td>0.005277</td>\n",
       "      <td>0.018673</td>\n",
       "      <td>0.024445</td>\n",
       "      <td>0.020681</td>\n",
       "      <td>...</td>\n",
       "      <td>0.000229</td>\n",
       "      <td>0.000245</td>\n",
       "      <td>0.000268</td>\n",
       "      <td>0.000272</td>\n",
       "      <td>0.000260</td>\n",
       "      <td>0.000248</td>\n",
       "      <td>0.000247</td>\n",
       "      <td>0.000254</td>\n",
       "      <td>0.0</td>\n",
       "      <td>0.000000</td>\n",
       "    </tr>\n",
       "  </tbody>\n",
       "</table>\n",
       "<p>251092 rows × 193 columns</p>\n",
       "</div>"
      ],
      "text/plain": [
       "          0         1         2         3         4         5         6    \\\n",
       "0       0.000  0.004339  0.006039  0.009540  0.012700  0.012407  0.010001   \n",
       "1       0.032  0.004647  0.006073  0.009980  0.014301  0.013825  0.010343   \n",
       "2       0.064  0.004902  0.006037  0.010141  0.015858  0.015103  0.010261   \n",
       "3       0.096  0.005066  0.005998  0.009985  0.017362  0.016220  0.009778   \n",
       "4       0.128  0.005128  0.006015  0.009505  0.018816  0.017146  0.008939   \n",
       "...       ...       ...       ...       ...       ...       ...       ...   \n",
       "251087  7.232  0.016996  0.024627  0.025763  0.022843  0.016272  0.014689   \n",
       "251088  7.264  0.015188  0.022720  0.023012  0.019354  0.013047  0.010927   \n",
       "251089  7.296  0.013305  0.020496  0.019982  0.015793  0.010059  0.007795   \n",
       "251090  7.328  0.011442  0.018007  0.016781  0.012372  0.007500  0.005803   \n",
       "251091  7.360  0.009690  0.015348  0.013547  0.009274  0.005581  0.005277   \n",
       "\n",
       "             7         8         9    ...       183       184       185  \\\n",
       "0       0.008643  0.008276  0.007767  ...  0.000153  0.000165  0.000164   \n",
       "1       0.009158  0.008959  0.008272  ...  0.000036  0.000024  0.000039   \n",
       "2       0.009526  0.009474  0.008453  ...  0.000062  0.000068  0.000063   \n",
       "3       0.009759  0.009816  0.008290  ...  0.000169  0.000419  0.000270   \n",
       "4       0.009824  0.009996  0.007773  ...  0.000283  0.000087  0.000316   \n",
       "...          ...       ...       ...  ...       ...       ...       ...   \n",
       "251087  0.033259  0.042570  0.033413  ...  0.001452  0.000392  0.000755   \n",
       "251088  0.029718  0.038772  0.030509  ...  0.000944  0.000356  0.000100   \n",
       "251089  0.025998  0.034271  0.027372  ...  0.000245  0.000061  0.000049   \n",
       "251090  0.022253  0.029385  0.024091  ...  0.000109  0.000050  0.000045   \n",
       "251091  0.018673  0.024445  0.020681  ...  0.000229  0.000245  0.000268   \n",
       "\n",
       "             186       187       188       189       190  191         192  \n",
       "0       0.000155  0.000151  0.000159  0.000168  0.000164  0.0    0.000000  \n",
       "1       0.000061  0.000061  0.000081  0.000088  0.000068  0.0    0.000000  \n",
       "2       0.000029  0.000041  0.000046  0.000042  0.000028  0.0    0.000000  \n",
       "3       0.000126  0.000104  0.000052  0.000077  0.000149  1.0  119.626230  \n",
       "4       0.000283  0.000053  0.000029  0.000184  0.000038  1.0  156.307519  \n",
       "...          ...       ...       ...       ...       ...  ...         ...  \n",
       "251087  0.002354  0.001939  0.000348  0.000117  0.000349  1.0    0.000000  \n",
       "251088  0.000186  0.000224  0.000131  0.000146  0.000273  0.0    0.000000  \n",
       "251089  0.000027  0.000074  0.000071  0.000051  0.000050  0.0    0.000000  \n",
       "251090  0.000013  0.000049  0.000024  0.000034  0.000038  0.0    0.000000  \n",
       "251091  0.000272  0.000260  0.000248  0.000247  0.000254  0.0    0.000000  \n",
       "\n",
       "[251092 rows x 193 columns]"
      ]
     },
     "execution_count": 4,
     "metadata": {},
     "output_type": "execute_result"
    }
   ],
   "source": [
    "mir_test_data"
   ]
  },
  {
   "cell_type": "code",
   "execution_count": 5,
   "id": "6d9a29a9-6d51-4820-8047-4946138ffbf3",
   "metadata": {
    "tags": []
   },
   "outputs": [],
   "source": [
    "batch_size = 64\n",
    "mir_test_batches = DataLoader(CQT_Dataset_test(data=mir_test_data, mode='test'), batch_size=batch_size, shuffle=True, num_workers=4, pin_memory=True)"
   ]
  },
  {
   "cell_type": "code",
   "execution_count": 14,
   "id": "e4263eb6-3110-45e2-a610-a54d58114008",
   "metadata": {
    "tags": []
   },
   "outputs": [],
   "source": [
    "for inputs, targets in enumerate(mir_test_batches):\n",
    "    int_shift = targets[1]\n",
    "    inp1 = targets[2]\n",
    "    inp2 = targets[3]\n",
    "    label = np.vstack((targets[4].detach().numpy(),targets[5].detach().numpy()))\n",
    "    if inputs == 4:\n",
    "        break"
   ]
  },
  {
   "cell_type": "code",
   "execution_count": 6,
   "id": "a6c5139f-5788-40ae-8a62-34fc00457646",
   "metadata": {},
   "outputs": [
    {
     "data": {
      "text/plain": [
       "<All keys matched successfully>"
      ]
     },
     "execution_count": 6,
     "metadata": {},
     "output_type": "execute_result"
    }
   ],
   "source": [
    "# load model trained on MDB\n",
    "model = Spice_model([1, 64, 128, 256, 512, 512, 512], [512, 512, 512, 256, 128, 64, 1], [True, True, True, True, True, True])\n",
    "checkpoint = torch.load('./rev_1k_checkpoints/checkpoint_mir_643.ckp', 'cuda' if torch.cuda.is_available() else 'cpu')\n",
    "model.load_state_dict(checkpoint['state_dict'])"
   ]
  },
  {
   "cell_type": "code",
   "execution_count": 7,
   "id": "d4d8fd1e-7b59-48a3-98b4-11c7540fe3d1",
   "metadata": {
    "tags": []
   },
   "outputs": [],
   "source": [
    "def output2hz(pitch_output):\n",
    "  # Constants taken from https://tfhub.dev/google/spice/2\n",
    "  PT_OFFSET = 25.58\n",
    "  PT_SLOPE = 63.07\n",
    "  FMIN = 10.0    #why is it 10, not 110?\n",
    "  BINS_PER_OCTAVE = 12.0  \n",
    "  cqt_bin = pitch_output * PT_SLOPE + PT_OFFSET;\n",
    "  return FMIN * 2.0 ** (1.0 * cqt_bin / BINS_PER_OCTAVE)"
   ]
  },
  {
   "cell_type": "code",
   "execution_count": 8,
   "id": "515888f9-17db-4183-bfb3-57870ce1b1c1",
   "metadata": {
    "tags": []
   },
   "outputs": [
    {
     "data": {
      "text/plain": [
       "0.012565718708847283"
      ]
     },
     "execution_count": 8,
     "metadata": {},
     "output_type": "execute_result"
    }
   ],
   "source": [
    "1 / (24 * np.log2(666.664939769901 /  66.9456331525636256))"
   ]
  },
  {
   "cell_type": "code",
   "execution_count": 9,
   "id": "453e921f-827e-4708-9822-90b61be00fa2",
   "metadata": {
    "tags": []
   },
   "outputs": [],
   "source": [
    "import mir_eval\n",
    "from tqdm import tqdm\n",
    "\n",
    "def rpa_on_dataset(model, batches, sigma=0.0125657):\n",
    "    pred_pitch = np.array([])\n",
    "    pred_pitch_cent = np.array([])\n",
    "    pred_pitch_voicing = np.array([])\n",
    "    lab_pitch_cent = np.array([])\n",
    "    lab_pitch_voicing = np.array([])\n",
    "    for inputs, targets in enumerate(tqdm(batches)):\n",
    "        int_shift = targets[1].detach().numpy()\n",
    "        inp1 = targets[2]\n",
    "        inp2 = targets[3]\n",
    "        label_voice = targets[4].detach().numpy()\n",
    "        label_f0 = targets[5].detach().numpy()\n",
    "        pitch_h1,conf_h1,x_hat1 = model(inp1.float())\n",
    "        pitch_h2,conf_h2,x_hat2 = model(inp2.float())\n",
    "        abs_pitch1 = np.apply_along_axis(output2hz, 0, pitch_h1.detach().numpy())\n",
    "        abs_pitch2 = np.apply_along_axis(output2hz, 0, pitch_h2.detach().numpy())\n",
    "        # abs_pitch_cent1 = np.apply_along_axis(mir_eval.melody.hz2cents, 0, abs_pitch1))\n",
    "        # abs_pitch_cent2 = np.apply_along_axis(mir_eval.melody.hz2cents, 0, abs_pitch2))\n",
    "        pitch_diff =  np.abs((abs_pitch1-abs_pitch2) - (sigma*int_shift).reshape(int_shift.shape[0],1))\n",
    "        # pitch_diff_cent =  np.abs(abs_pitch_cent1-abs_pitch_cent2)\n",
    "        # pitch_diff[pitch_diff>0.5] #not even a sigle one even without semitone implementation\n",
    "        \n",
    "        ## implemented on average pitch\n",
    "        pred_pitch_batch = np.mean([abs_pitch1, abs_pitch2], axis=0)\n",
    "        pred_pitch = np.append(pred_pitch, pred_pitch_batch)\n",
    "        temp = np.apply_along_axis(mir_eval.melody.hz2cents, 0, pred_pitch_batch)\n",
    "        pred_pitch_cent = np.append(pred_pitch_cent, temp)\n",
    "        pred_pitch_voicing = np.append(pred_pitch_voicing,label_voice) #replace with conf head\n",
    "        lab_pitch_cent = np.append(lab_pitch_cent,np.apply_along_axis(mir_eval.melody.hz2cents, 0, label_f0))\n",
    "        lab_pitch_voicing = np.append(lab_pitch_voicing,label_voice) \n",
    "        if inputs == 5:\n",
    "            break\n",
    "        print(\"RPA : {} after batch {}\".format(mir_eval.melody.raw_pitch_accuracy(lab_pitch_voicing, lab_pitch_cent, pred_pitch_voicing, pred_pitch_cent), inputs))\n",
    "    raw_pitch_accuracy = mir_eval.melody.raw_pitch_accuracy(lab_pitch_voicing, lab_pitch_cent, pred_pitch_voicing, pred_pitch_cent)\n",
    "    return raw_pitch_accuracy"
   ]
  },
  {
   "cell_type": "code",
   "execution_count": 10,
   "id": "8939a2a5-dee4-43a3-8dc9-f747b929bb59",
   "metadata": {
    "tags": []
   },
   "outputs": [
    {
     "name": "stderr",
     "output_type": "stream",
     "text": [
      "  0%|          | 1/3924 [00:01<1:39:56,  1.53s/it]"
     ]
    },
    {
     "name": "stdout",
     "output_type": "stream",
     "text": [
      "RPA : 0.0 after batch 0\n"
     ]
    },
    {
     "name": "stderr",
     "output_type": "stream",
     "text": [
      "  0%|          | 2/3924 [00:01<57:21,  1.14it/s]  "
     ]
    },
    {
     "name": "stdout",
     "output_type": "stream",
     "text": [
      "RPA : 0.0 after batch 1\n"
     ]
    },
    {
     "name": "stderr",
     "output_type": "stream",
     "text": [
      "  0%|          | 3/3924 [00:02<39:53,  1.64it/s]"
     ]
    },
    {
     "name": "stdout",
     "output_type": "stream",
     "text": [
      "RPA : 0.0 after batch 2\n"
     ]
    },
    {
     "name": "stderr",
     "output_type": "stream",
     "text": [
      "  0%|          | 4/3924 [00:02<31:40,  2.06it/s]"
     ]
    },
    {
     "name": "stdout",
     "output_type": "stream",
     "text": [
      "RPA : 0.0 after batch 3\n"
     ]
    },
    {
     "name": "stderr",
     "output_type": "stream",
     "text": [
      "  0%|          | 5/3924 [00:02<27:09,  2.41it/s]"
     ]
    },
    {
     "name": "stdout",
     "output_type": "stream",
     "text": [
      "RPA : 0.0 after batch 4\n"
     ]
    },
    {
     "name": "stderr",
     "output_type": "stream",
     "text": [
      "  0%|          | 5/3924 [00:03<41:17,  1.58it/s]\n"
     ]
    },
    {
     "data": {
      "text/plain": [
       "0.0"
      ]
     },
     "execution_count": 10,
     "metadata": {},
     "output_type": "execute_result"
    }
   ],
   "source": [
    "rpa_on_dataset(model, mir_test_batches)"
   ]
  },
  {
   "cell_type": "code",
   "execution_count": 136,
   "id": "67eccbb3-b6e3-41cf-9c3a-e7636c8d91b7",
   "metadata": {},
   "outputs": [
    {
     "ename": "NameError",
     "evalue": "name 'pitch_h' is not defined",
     "output_type": "error",
     "traceback": [
      "\u001b[0;31m---------------------------------------------------------------------------\u001b[0m",
      "\u001b[0;31mNameError\u001b[0m                                 Traceback (most recent call last)",
      "Cell \u001b[0;32mIn[136], line 1\u001b[0m\n\u001b[0;32m----> 1\u001b[0m y_hat \u001b[38;5;241m=\u001b[39m np\u001b[38;5;241m.\u001b[39mapply_along_axis(output2hz, \u001b[38;5;241m0\u001b[39m, \u001b[43mpitch_h\u001b[49m\u001b[38;5;241m.\u001b[39mdetach()\u001b[38;5;241m.\u001b[39mnumpy())\n\u001b[1;32m      2\u001b[0m y_hat_cent \u001b[38;5;241m=\u001b[39m np\u001b[38;5;241m.\u001b[39mapply_along_axis(mir_eval\u001b[38;5;241m.\u001b[39mmelody\u001b[38;5;241m.\u001b[39mhz2cents, \u001b[38;5;241m0\u001b[39m, y_hat)\n\u001b[1;32m      3\u001b[0m y_hat_voice \u001b[38;5;241m=\u001b[39m np\u001b[38;5;241m.\u001b[39mrandom\u001b[38;5;241m.\u001b[39mrandint(\u001b[38;5;241m2\u001b[39m, size\u001b[38;5;241m=\u001b[39my_hat\u001b[38;5;241m.\u001b[39mshape)\n",
      "\u001b[0;31mNameError\u001b[0m: name 'pitch_h' is not defined"
     ]
    }
   ],
   "source": [
    "y_hat = np.apply_along_axis(output2hz, 0, pitch_h.detach().numpy())\n",
    "y_hat_cent = np.apply_along_axis(mir_eval.melody.hz2cents, 0, y_hat)\n",
    "y_hat_voice = np.random.randint(2, size=y_hat.shape)\n",
    "y = np.random.uniform(low=40, high=65, size=(10,1)) #extrapolate back to time\n",
    "y_cent = np.apply_along_axis(mir_eval.melody.hz2cents, 0, y)\n",
    "y_voice = np.random.randint(2, size=y.shape)\n",
    "raw_pitch_accuracy = mir_eval.melody.raw_pitch_accuracy(y_voice, y_cent, y_hat_voice, y_hat_cent)\n",
    "raw_pitch_accuracy"
   ]
  },
  {
   "cell_type": "code",
   "execution_count": 16,
   "id": "c50256fe-6d37-4280-99d9-3348455e159d",
   "metadata": {
    "tags": []
   },
   "outputs": [],
   "source": [
    "pitch_h1,conf_h1,x_hat1 = model(inp1.float())\n",
    "pitch_h2,conf_h2,x_hat2 = model(inp2.float())"
   ]
  },
  {
   "cell_type": "code",
   "execution_count": 17,
   "id": "ea4b1e13-728a-4d7d-9df5-1c2ae12220b9",
   "metadata": {
    "tags": []
   },
   "outputs": [],
   "source": [
    "y_hat1 = np.apply_along_axis(output2hz, 0, pitch_h1.detach().numpy())\n",
    "y_hat2 = np.apply_along_axis(output2hz, 0, pitch_h2.detach().numpy())"
   ]
  },
  {
   "cell_type": "code",
   "execution_count": 22,
   "id": "019312cf-af38-48c4-8462-40040c0143ce",
   "metadata": {
    "tags": []
   },
   "outputs": [
    {
     "name": "stdout",
     "output_type": "stream",
     "text": [
      "[[39.118362]\n",
      " [34.591106]\n",
      " [42.45288 ]\n",
      " [38.605713]\n",
      " [41.83369 ]\n",
      " [39.445374]\n",
      " [43.073883]\n",
      " [41.75791 ]\n",
      " [40.20938 ]\n",
      " [39.736454]\n",
      " [36.421143]\n",
      " [39.377724]\n",
      " [36.874325]\n",
      " [42.704144]\n",
      " [43.76687 ]\n",
      " [39.899994]\n",
      " [37.150597]\n",
      " [39.383377]\n",
      " [38.50537 ]\n",
      " [43.74185 ]\n",
      " [38.253216]\n",
      " [38.49774 ]\n",
      " [40.302807]\n",
      " [39.321465]\n",
      " [41.837482]\n",
      " [41.68345 ]\n",
      " [43.408997]\n",
      " [39.283783]\n",
      " [38.699707]\n",
      " [43.730865]\n",
      " [38.888096]\n",
      " [41.08494 ]\n",
      " [39.74883 ]\n",
      " [43.606888]\n",
      " [39.970196]\n",
      " [43.769325]\n",
      " [39.447826]\n",
      " [39.422005]\n",
      " [42.45598 ]\n",
      " [38.739914]\n",
      " [39.44508 ]\n",
      " [43.73856 ]\n",
      " [43.310112]\n",
      " [38.2805  ]\n",
      " [41.843666]\n",
      " [36.92688 ]\n",
      " [43.77212 ]\n",
      " [42.913223]\n",
      " [39.805077]\n",
      " [40.221245]\n",
      " [39.030243]\n",
      " [43.75689 ]\n",
      " [38.04477 ]\n",
      " [36.197372]\n",
      " [43.418674]\n",
      " [43.767548]\n",
      " [39.446075]\n",
      " [38.94567 ]\n",
      " [43.655354]\n",
      " [40.501286]\n",
      " [37.658596]\n",
      " [42.480026]\n",
      " [43.75673 ]\n",
      " [40.558205]]\n",
      "[[39.223717]\n",
      " [35.33662 ]\n",
      " [42.83276 ]\n",
      " [38.562073]\n",
      " [41.9638  ]\n",
      " [39.75415 ]\n",
      " [43.280647]\n",
      " [41.6503  ]\n",
      " [40.223278]\n",
      " [39.751564]\n",
      " [36.447716]\n",
      " [39.14907 ]\n",
      " [36.88248 ]\n",
      " [42.73407 ]\n",
      " [43.851734]\n",
      " [39.57293 ]\n",
      " [37.1547  ]\n",
      " [39.315914]\n",
      " [38.766994]\n",
      " [43.800354]\n",
      " [38.54742 ]\n",
      " [38.21762 ]\n",
      " [40.32623 ]\n",
      " [39.508205]\n",
      " [41.687054]\n",
      " [41.717255]\n",
      " [43.514347]\n",
      " [39.295918]\n",
      " [38.50601 ]\n",
      " [43.81385 ]\n",
      " [39.163338]\n",
      " [41.035175]\n",
      " [39.81534 ]\n",
      " [43.689846]\n",
      " [39.565536]\n",
      " [43.85276 ]\n",
      " [39.257874]\n",
      " [39.406982]\n",
      " [42.523785]\n",
      " [38.7384  ]\n",
      " [39.185078]\n",
      " [43.819687]\n",
      " [43.395496]\n",
      " [38.59985 ]\n",
      " [41.868023]\n",
      " [37.099415]\n",
      " [43.856693]\n",
      " [43.03968 ]\n",
      " [39.569042]\n",
      " [40.259037]\n",
      " [39.042072]\n",
      " [43.843304]\n",
      " [37.947067]\n",
      " [35.90168 ]\n",
      " [43.483612]\n",
      " [43.853764]\n",
      " [39.456947]\n",
      " [38.961914]\n",
      " [43.771156]\n",
      " [40.445995]\n",
      " [37.45936 ]\n",
      " [42.376343]\n",
      " [43.839336]\n",
      " [40.586628]]\n",
      "[[  1.           1.           1.           1.           1.\n",
      "    1.           0.           1.           1.           1.\n",
      "    1.           1.           1.           0.           0.\n",
      "    1.           1.           1.           1.           1.\n",
      "    1.           1.           1.           1.           1.\n",
      "    1.           0.           1.           1.           0.\n",
      "    1.           1.           1.           0.           1.\n",
      "    0.           1.           1.           0.           1.\n",
      "    1.           0.           0.           1.           1.\n",
      "    1.           0.           1.           1.           1.\n",
      "    1.           0.           1.           1.           0.\n",
      "    0.           1.           1.           0.           1.\n",
      "    1.           0.           0.           1.        ]\n",
      " [301.88593105 350.918808   313.72565782 134.70414977  73.32756836\n",
      "  222.2222885    0.         350.918808   170.94473821 213.33369602\n",
      "  134.90971045 111.62253823 137.93085194   0.           0.\n",
      "  285.71369507 216.2167849  299.69063598 213.33369602   0.\n",
      "  319.99961967 326.53105125 199.53109113 375.63666199 372.09264074\n",
      "    0.           0.         280.70151631 284.71125932   0.\n",
      "  164.94806538 319.99961967 175.82459048   0.         148.42476921\n",
      "    0.         363.63603954 262.29437287   0.         250.00007432\n",
      "  341.90538785   0.           0.         290.90945569 145.45441582\n",
      "  173.91353189   0.           0.         250.00007432   0.\n",
      "  195.12228034   0.         355.55642435 266.66654796   0.\n",
      "    0.         296.29552908 182.66367989   0.         355.55642435\n",
      "  225.35172973   0.           0.         218.61898634]]\n",
      "tensor([2, 3, 4, 2, 1, 1, 3, 1, 3, 1, 7, 6, 0, 2, 2, 7, 0, 4, 1, 7, 4, 3, 2, 2,\n",
      "        1, 0, 2, 0, 5, 0, 3, 6, 6, 6, 5, 0, 5, 4, 0, 3, 6, 1, 0, 3, 0, 3, 5, 2,\n",
      "        3, 2, 0, 3, 6, 3, 3, 1, 0, 0, 5, 2, 3, 3, 4, 2])\n"
     ]
    }
   ],
   "source": [
    "print(\"{}\\n{}\\n{}\\n{}\".format(y_hat1,y_hat2,label,int_shift))"
   ]
  },
  {
   "cell_type": "code",
   "execution_count": null,
   "id": "79cb2c65-bee1-4a63-9311-d1d048bce426",
   "metadata": {},
   "outputs": [],
   "source": []
  }
 ],
 "metadata": {
  "kernelspec": {
   "display_name": "spice",
   "language": "python",
   "name": "spice"
  },
  "language_info": {
   "codemirror_mode": {
    "name": "ipython",
    "version": 3
   },
   "file_extension": ".py",
   "mimetype": "text/x-python",
   "name": "python",
   "nbconvert_exporter": "python",
   "pygments_lexer": "ipython3",
   "version": "3.10.9"
  }
 },
 "nbformat": 4,
 "nbformat_minor": 5
}
