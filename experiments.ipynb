{
 "cells": [
  {
   "cell_type": "code",
   "execution_count": 4,
   "metadata": {},
   "outputs": [],
   "source": [
    "import librosa\n",
    "import numpy as np\n",
    "from data_files.CQT import cqt\n",
    "import pandas as pd\n",
    "import torch\n",
    "import scipy\n",
    "from sklearn.model_selection import train_test_split\n",
    "\n",
    "from data_files.dataloader import MedleyDBLoader, MDBMelodySynthLoader, MIR1KLoader\n",
    "# from data_files.dataset import CQT_Dataset\n",
    "\n",
    "import IPython.display as ipd\n",
    "import matplotlib.pyplot as plt"
   ]
  },
  {
   "cell_type": "code",
   "execution_count": 5,
   "metadata": {},
   "outputs": [],
   "source": [
    "fs = 16000\n",
    "\n",
    "medleyDB = MedleyDBLoader(fs)\n",
    "mdbSynth = MDBMelodySynthLoader(fs)\n",
    "mir1k = MIR1KLoader(fs)"
   ]
  },
  {
   "cell_type": "code",
   "execution_count": 6,
   "metadata": {},
   "outputs": [
    {
     "data": {
      "text/plain": [
       "65"
      ]
     },
     "execution_count": 6,
     "metadata": {},
     "output_type": "execute_result"
    }
   ],
   "source": [
    "id_list = medleyDB.get_ids()\n",
    "len(id_list)"
   ]
  },
  {
   "cell_type": "code",
   "execution_count": 7,
   "metadata": {},
   "outputs": [
    {
     "name": "stdout",
     "output_type": "stream",
     "text": [
      "(2, 4807500) MatthewEntwistle_FairerHopes_STEM_14\n",
      "(2, 1071452) MusicDelta_LatinJazz_STEM_04\n",
      "(2, 2350973) BigTroubles_Phantom_STEM_04\n",
      "(2, 3131871) ClaraBerryAndWooldog_Stella_STEM_07\n",
      "(2, 5072236) PortStWillow_StayEven_STEM_08\n"
     ]
    }
   ],
   "source": [
    "songs = []\n",
    "f0s = []\n",
    "for i,x in enumerate(id_list[:5]):\n",
    "    so, f0 = medleyDB.load_data(x)\n",
    "    print(so.shape, x)\n",
    "    songs.append(librosa.to_mono(so))\n",
    "    f0s.append(f0)"
   ]
  },
  {
   "cell_type": "code",
   "execution_count": 8,
   "metadata": {},
   "outputs": [
    {
     "data": {
      "text/plain": [
       "(3, 51761)"
      ]
     },
     "execution_count": 8,
     "metadata": {},
     "output_type": "execute_result"
    }
   ],
   "source": [
    "f0s[0].shape"
   ]
  },
  {
   "cell_type": "code",
   "execution_count": 9,
   "metadata": {},
   "outputs": [
    {
     "name": "stdout",
     "output_type": "stream",
     "text": [
      "Songs shape:  (4807500,) F0 shape:  (3, 51761)\n",
      "Cqt shape:  (190, 9390)\n",
      "Reshape F0:  (9390,)\n",
      "Songs shape:  (1071452,) F0 shape:  (3, 11536)\n",
      "Cqt shape:  (190, 2093)\n",
      "Reshape F0:  (2093,)\n",
      "Songs shape:  (2350973,) F0 shape:  (3, 25312)\n",
      "Cqt shape:  (190, 4592)\n",
      "Reshape F0:  (4592,)\n",
      "Songs shape:  (3131871,) F0 shape:  (3, 33720)\n",
      "Cqt shape:  (190, 6117)\n",
      "Reshape F0:  (6117,)\n",
      "Songs shape:  (5072236,) F0 shape:  (3, 54611)\n",
      "Cqt shape:  (190, 9907)\n",
      "Reshape F0:  (9907,)\n",
      "CQT Shape:  (32100, 190)\n",
      "F0 shape:  (32100,)\n"
     ]
    }
   ],
   "source": [
    "Cqtt = np.zeros((1, 190))\n",
    "f0s_inter = np.zeros(1)\n",
    "for s, f in zip(songs, f0s):\n",
    "    print(\"Songs shape: \", s.shape,\"F0 shape: \", f.shape )\n",
    "    C = np.abs(librosa.cqt(s, sr=fs, hop_length=512, #window=librosa.filters.get_window('hann', Nx=1024, fftbins=False), \n",
    "            fmin= librosa.note_to_hz('C1'),\n",
    "            n_bins=190, bins_per_octave=24))\n",
    "    print(\"Cqt shape: \", C.shape)\n",
    "    Cqtt = np.vstack((Cqtt, C.T))\n",
    "    inter = scipy.interpolate.interp1d(x=f[0], y=f[2], axis=0)\n",
    "    f0_inter = inter(C[0])\n",
    "    f0s_inter = np.concatenate((f0s_inter, f0_inter))\n",
    "    print(\"Reshape F0: \", f0_inter.shape )\n",
    "print(\"CQT Shape: \", Cqtt.shape)\n",
    "print(\"F0 shape: \", f0s_inter.shape)"
   ]
  },
  {
   "cell_type": "code",
   "execution_count": 10,
   "metadata": {},
   "outputs": [
    {
     "name": "stdout",
     "output_type": "stream",
     "text": [
      "CQT Shape:  (32099, 190)\n",
      "F0 shape:  (32099, 1)\n"
     ]
    }
   ],
   "source": [
    "# remove zero rows\n",
    "Cqtt = Cqtt[1:, :]\n",
    "f0s_inter = f0s_inter[1:]\n",
    "#elevate f0\n",
    "f0s_inter = f0s_inter.reshape(-1, 1)\n",
    "print(\"CQT Shape: \", Cqtt.shape)\n",
    "print(\"F0 shape: \", f0s_inter.reshape(-1,1).shape)"
   ]
  },
  {
   "cell_type": "code",
   "execution_count": 15,
   "metadata": {},
   "outputs": [],
   "source": [
    "file_path = \"./data/CQT_dataset/\"+\"medley\" + \".npy\"\n",
    "\n",
    "# print(file_path)\n",
    "with open(file_path, 'wb') as f:\n",
    "    np.save(file=f, arr=Cqtt)"
   ]
  },
  {
   "cell_type": "code",
   "execution_count": 16,
   "metadata": {},
   "outputs": [
    {
     "data": {
      "text/plain": [
       "'/Users/jibaksarkar/Documents/AI_MS_FAU/Sem_3/MPA Project/Code/Mini_SPICE'"
      ]
     },
     "execution_count": 16,
     "metadata": {},
     "output_type": "execute_result"
    }
   ],
   "source": [
    "import os \n",
    "\n",
    "os.path.abspath(os.getcwd())"
   ]
  },
  {
   "cell_type": "code",
   "execution_count": 17,
   "metadata": {},
   "outputs": [],
   "source": [
    "# make the last column as f0s\n",
    "dataset = np.hstack((Cqtt, f0s_inter))"
   ]
  },
  {
   "cell_type": "code",
   "execution_count": 8,
   "metadata": {},
   "outputs": [
    {
     "data": {
      "text/plain": [
       "array([  32.70319566,   33.66147244,   34.64782887,   35.66308775,\n",
       "         36.70809599,   37.78372531,   38.89087297,   40.03046253,\n",
       "         41.20344461,   42.4107977 ,   43.65352893,   44.93267496,\n",
       "         46.24930284,   47.60451086,   48.9994295 ,   50.43522238,\n",
       "         51.9130872 ,   53.43425676,   55.        ,   56.61162302,\n",
       "         58.27047019,   59.9779253 ,   61.73541266,   63.54439833,\n",
       "         65.40639133,   67.32294488,   69.29565774,   71.32617551,\n",
       "         73.41619198,   75.56745061,   77.78174593,   80.06092506,\n",
       "         82.40688923,   84.8215954 ,   87.30705786,   89.86534993,\n",
       "         92.49860568,   95.20902171,   97.998859  ,  100.87044475,\n",
       "        103.82617439,  106.86851353,  110.        ,  113.22324603,\n",
       "        116.54094038,  119.95585059,  123.47082531,  127.08879666,\n",
       "        130.81278265,  134.64588976,  138.59131549,  142.65235101,\n",
       "        146.83238396,  151.13490122,  155.56349186,  160.12185011,\n",
       "        164.81377846,  169.64319079,  174.61411572,  179.73069986,\n",
       "        184.99721136,  190.41804342,  195.99771799,  201.74088951,\n",
       "        207.65234879,  213.73702705,  220.        ,  226.44649206,\n",
       "        233.08188076,  239.91170119,  246.94165063,  254.17759331,\n",
       "        261.6255653 ,  269.29177953,  277.18263098,  285.30470202,\n",
       "        293.66476792,  302.26980244,  311.12698372,  320.24370023,\n",
       "        329.62755691,  339.28638159,  349.22823143,  359.46139971,\n",
       "        369.99442271,  380.83608684,  391.99543598,  403.48177901,\n",
       "        415.30469758,  427.47405411,  440.        ,  452.89298412,\n",
       "        466.16376152,  479.82340237,  493.88330126,  508.35518662,\n",
       "        523.2511306 ,  538.58355905,  554.36526195,  570.60940405,\n",
       "        587.32953583,  604.53960488,  622.25396744,  640.48740045,\n",
       "        659.25511383,  678.57276318,  698.45646287,  718.92279943,\n",
       "        739.98884542,  761.67217369,  783.99087196,  806.96355802,\n",
       "        830.60939516,  854.94810822,  880.        ,  905.78596825,\n",
       "        932.32752304,  959.64680475,  987.76660251, 1016.71037325,\n",
       "       1046.5022612 , 1077.16711811, 1108.73052391, 1141.21880809,\n",
       "       1174.65907167, 1209.07920976, 1244.50793489, 1280.9748009 ,\n",
       "       1318.51022765, 1357.14552636, 1396.91292573, 1437.84559885,\n",
       "       1479.97769085, 1523.34434737, 1567.98174393, 1613.92711604,\n",
       "       1661.21879032, 1709.89621643, 1760.        , 1811.57193649,\n",
       "       1864.65504607, 1919.29360949, 1975.53320502, 2033.4207465 ,\n",
       "       2093.0045224 , 2154.33423622, 2217.46104781, 2282.43761619,\n",
       "       2349.31814334, 2418.15841953, 2489.01586978, 2561.9496018 ,\n",
       "       2637.0204553 , 2714.29105272, 2793.82585146, 2875.6911977 ,\n",
       "       2959.95538169, 3046.68869474, 3135.96348785, 3227.85423208,\n",
       "       3322.43758064, 3419.79243286, 3520.        , 3623.14387299,\n",
       "       3729.31009214, 3838.58721898, 3951.06641005, 4066.84149299,\n",
       "       4186.00904481, 4308.66847243, 4434.92209563, 4564.87523237,\n",
       "       4698.63628668, 4836.31683905, 4978.03173955, 5123.8992036 ,\n",
       "       5274.04091061, 5428.58210544, 5587.65170293, 5751.38239541,\n",
       "       5919.91076339, 6093.37738948, 6271.92697571, 6455.70846416,\n",
       "       6644.87516128, 6839.58486572, 7040.        , 7246.28774597,\n",
       "       7458.62018429, 7677.17443796])"
      ]
     },
     "execution_count": 8,
     "metadata": {},
     "output_type": "execute_result"
    }
   ],
   "source": [
    "librosa.cqt_frequencies(n_bins=190, fmin=librosa.note_to_hz('C1'), bins_per_octave=24)"
   ]
  },
  {
   "cell_type": "code",
   "execution_count": 18,
   "metadata": {},
   "outputs": [
    {
     "data": {
      "text/plain": [
       "(32099,)"
      ]
     },
     "execution_count": 18,
     "metadata": {},
     "output_type": "execute_result"
    }
   ],
   "source": [
    "# as 190 is feature number so we transpose\n",
    "data = pd.DataFrame(data=dataset)\n",
    "data[1].shape"
   ]
  },
  {
   "cell_type": "code",
   "execution_count": 19,
   "metadata": {},
   "outputs": [
    {
     "data": {
      "text/plain": [
       "(25679, 191)"
      ]
     },
     "execution_count": 19,
     "metadata": {},
     "output_type": "execute_result"
    }
   ],
   "source": [
    "train, val = train_test_split(data, train_size=0.8, test_size=0.2, random_state=1)\n",
    "train.shape"
   ]
  },
  {
   "cell_type": "code",
   "execution_count": 11,
   "metadata": {},
   "outputs": [
    {
     "data": {
      "text/plain": [
       "(13502, 190)"
      ]
     },
     "execution_count": 11,
     "metadata": {},
     "output_type": "execute_result"
    }
   ],
   "source": [
    "dataa = train.iloc[:, :-1]\n",
    "dataa.shape"
   ]
  },
  {
   "cell_type": "code",
   "execution_count": 14,
   "metadata": {},
   "outputs": [],
   "source": [
    "t_batch = torch.utils.data.DataLoader(CQT_Dataset(data=train, mode='train'), batch_size=64, shuffle=False)"
   ]
  },
  {
   "cell_type": "code",
   "execution_count": 16,
   "metadata": {},
   "outputs": [
    {
     "name": "stdout",
     "output_type": "stream",
     "text": [
      "211\n"
     ]
    }
   ],
   "source": [
    "batch_counter = 0\n",
    "for b in t_batch:\n",
    "    batch_counter += 1\n",
    "    d, s1, s2 ,f = b\n",
    "    #print(s.shape, d.shape, f.shape)\n",
    "print(batch_counter)"
   ]
  },
  {
   "attachments": {},
   "cell_type": "markdown",
   "metadata": {},
   "source": [
    "## Rough works"
   ]
  },
  {
   "cell_type": "code",
   "execution_count": 17,
   "metadata": {},
   "outputs": [
    {
     "data": {
      "text/plain": [
       "(2, 6701068)"
      ]
     },
     "execution_count": 17,
     "metadata": {},
     "output_type": "execute_result"
    }
   ],
   "source": [
    "my_id = 'AlexanderRoss_GoodbyeBolero_STEM_06'\n",
    "\n",
    "x, f0 = medleyDB.load_data(my_id)\n",
    "x.shape"
   ]
  },
  {
   "cell_type": "code",
   "execution_count": 18,
   "metadata": {},
   "outputs": [
    {
     "name": "stdout",
     "output_type": "stream",
     "text": [
      "(72148,) (72148,) (72148,)\n"
     ]
    }
   ],
   "source": [
    "print(f0[0].shape, f0[2].shape, f0[1].shape)"
   ]
  },
  {
   "cell_type": "code",
   "execution_count": 19,
   "metadata": {},
   "outputs": [],
   "source": [
    "inter = scipy.interpolate.interp1d(x=f0[0], y=f0[2], axis=0)\n"
   ]
  },
  {
   "cell_type": "code",
   "execution_count": 20,
   "metadata": {},
   "outputs": [],
   "source": [
    "f0_interpolated = inter(C[0])"
   ]
  },
  {
   "cell_type": "code",
   "execution_count": 21,
   "metadata": {},
   "outputs": [
    {
     "data": {
      "text/plain": [
       "(546,)"
      ]
     },
     "execution_count": 21,
     "metadata": {},
     "output_type": "execute_result"
    }
   ],
   "source": [
    "f0_interpolated.shape"
   ]
  },
  {
   "cell_type": "code",
   "execution_count": 23,
   "metadata": {},
   "outputs": [
    {
     "data": {
      "text/plain": [
       "92.87981859410431"
      ]
     },
     "execution_count": 23,
     "metadata": {},
     "output_type": "execute_result"
    }
   ],
   "source": [
    "(256/44100)*16000"
   ]
  },
  {
   "cell_type": "code",
   "execution_count": 62,
   "metadata": {},
   "outputs": [
    {
     "name": "stdout",
     "output_type": "stream",
     "text": [
      "(72148,) (72148,) (72148,)\n"
     ]
    }
   ],
   "source": []
  },
  {
   "cell_type": "code",
   "execution_count": 21,
   "metadata": {},
   "outputs": [],
   "source": [
    "# plt.plot(f0[0], f0[2])"
   ]
  },
  {
   "cell_type": "code",
   "execution_count": 25,
   "metadata": {},
   "outputs": [
    {
     "data": {
      "text/plain": [
       "6688000"
      ]
     },
     "execution_count": 25,
     "metadata": {},
     "output_type": "execute_result"
    }
   ],
   "source": [
    "16000*418"
   ]
  },
  {
   "cell_type": "code",
   "execution_count": 26,
   "metadata": {},
   "outputs": [
    {
     "data": {
      "text/plain": [
       "418.81675"
      ]
     },
     "execution_count": 26,
     "metadata": {},
     "output_type": "execute_result"
    }
   ],
   "source": [
    "(6701068/16000)"
   ]
  },
  {
   "cell_type": "code",
   "execution_count": 27,
   "metadata": {},
   "outputs": [
    {
     "name": "stdout",
     "output_type": "stream",
     "text": [
      "diff batch shape: torch.Size([64])\n",
      "slice1 batch shape: torch.Size([64, 128])\n",
      "slice2 batch shape: torch.Size([64, 128])\n"
     ]
    }
   ],
   "source": [
    "diff, slice1, slice2, f0 = next(iter(t_batch))\n",
    "print(f\"diff batch shape: {diff.size()}\")\n",
    "print(f\"slice1 batch shape: {slice1.size()}\")\n",
    "print(f\"slice2 batch shape: {slice2.size()}\")"
   ]
  },
  {
   "cell_type": "code",
   "execution_count": 20,
   "metadata": {},
   "outputs": [],
   "source": [
    "# Cell output takes up lot of memory in the repo, clear it everytime\n",
    "# ipd.display(ipd.Audio(x, rate=fs))"
   ]
  },
  {
   "cell_type": "code",
   "execution_count": 29,
   "metadata": {},
   "outputs": [],
   "source": [
    "#y, sr = librosa.load('data/MusicDelta_Hendrix_STEM_04.wav')\n",
    "C = np.abs(librosa.cqt(x, sr=fs, hop_length=512, #window=librosa.filters.get_window('hann', Nx=1024, fftbins=False), \n",
    "            fmin= librosa.note_to_hz('C1'),\n",
    "            n_bins=190, bins_per_octave=24)) # n_bins upto 113\n"
   ]
  },
  {
   "cell_type": "code",
   "execution_count": 30,
   "metadata": {},
   "outputs": [],
   "source": [
    "C = np.sum(C, axis=0)"
   ]
  },
  {
   "cell_type": "code",
   "execution_count": 31,
   "metadata": {},
   "outputs": [
    {
     "data": {
      "text/plain": [
       "(13089,)"
      ]
     },
     "execution_count": 31,
     "metadata": {},
     "output_type": "execute_result"
    }
   ],
   "source": [
    "C[0].shape"
   ]
  },
  {
   "cell_type": "code",
   "execution_count": 32,
   "metadata": {},
   "outputs": [
    {
     "data": {
      "text/plain": [
       "511.96179998472"
      ]
     },
     "execution_count": 32,
     "metadata": {},
     "output_type": "execute_result"
    }
   ],
   "source": [
    "6701068/13089"
   ]
  },
  {
   "cell_type": "code",
   "execution_count": 33,
   "metadata": {},
   "outputs": [
    {
     "data": {
      "text/plain": [
       "(13089,)"
      ]
     },
     "execution_count": 33,
     "metadata": {},
     "output_type": "execute_result"
    }
   ],
   "source": [
    "np.sum(C, axis=0).shape"
   ]
  },
  {
   "cell_type": "code",
   "execution_count": 34,
   "metadata": {},
   "outputs": [
    {
     "ename": "IndexError",
     "evalue": "too many indices for array: array is 2-dimensional, but 3 were indexed",
     "output_type": "error",
     "traceback": [
      "\u001b[0;31m---------------------------------------------------------------------------\u001b[0m",
      "\u001b[0;31mIndexError\u001b[0m                                Traceback (most recent call last)",
      "Cell \u001b[0;32mIn[34], line 1\u001b[0m\n\u001b[0;32m----> 1\u001b[0m plt\u001b[39m.\u001b[39mpcolormesh(C[\u001b[39m1\u001b[39;49m,:,:], cmap\u001b[39m=\u001b[39m\u001b[39m'\u001b[39m\u001b[39mgray_r\u001b[39m\u001b[39m'\u001b[39m)\n\u001b[1;32m      2\u001b[0m plt\u001b[39m.\u001b[39mshow()\n",
      "\u001b[0;31mIndexError\u001b[0m: too many indices for array: array is 2-dimensional, but 3 were indexed"
     ]
    }
   ],
   "source": [
    "plt.pcolormesh(C[1,:,:], cmap='gray_r')\n",
    "plt.show()"
   ]
  },
  {
   "cell_type": "code",
   "execution_count": null,
   "metadata": {},
   "outputs": [],
   "source": [
    "plt.pcolormesh(np.sum(C, axis=0), cmap='gray_r')\n",
    "plt.show()"
   ]
  },
  {
   "cell_type": "code",
   "execution_count": null,
   "metadata": {},
   "outputs": [],
   "source": [
    "librosa.note_to_hz('B8')"
   ]
  },
  {
   "cell_type": "code",
   "execution_count": null,
   "metadata": {},
   "outputs": [],
   "source": [
    "C_ = np.abs(cqt(x, fmin=librosa.note_to_hz('C1'), fmax=librosa.note_to_hz('B8'), bins=24, fs=sr)['spCQT'])"
   ]
  },
  {
   "cell_type": "code",
   "execution_count": null,
   "metadata": {},
   "outputs": [],
   "source": [
    "C_.shape"
   ]
  },
  {
   "cell_type": "code",
   "execution_count": null,
   "metadata": {},
   "outputs": [],
   "source": [
    "plt.pcolormesh(C_)\n",
    "plt.show()"
   ]
  },
  {
   "cell_type": "code",
   "execution_count": null,
   "metadata": {},
   "outputs": [],
   "source": [
    "np.divmod(190, 24)"
   ]
  },
  {
   "cell_type": "code",
   "execution_count": null,
   "metadata": {},
   "outputs": [],
   "source": [
    "np.divmod(88539, 64)\n"
   ]
  }
 ],
 "metadata": {
  "interpreter": {
   "hash": "2fed21d7f443e9082cfc6ba2fbe018596127843c8658e141820a67f60820f8cf"
  },
  "kernelspec": {
   "display_name": "Python 3.10.11 ('mpa')",
   "language": "python",
   "name": "python3"
  },
  "language_info": {
   "codemirror_mode": {
    "name": "ipython",
    "version": 3
   },
   "file_extension": ".py",
   "mimetype": "text/x-python",
   "name": "python",
   "nbconvert_exporter": "python",
   "pygments_lexer": "ipython3",
   "version": "3.9.7"
  },
  "orig_nbformat": 4
 },
 "nbformat": 4,
 "nbformat_minor": 2
}
