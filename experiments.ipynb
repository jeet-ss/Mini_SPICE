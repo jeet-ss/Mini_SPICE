{
 "cells": [
  {
   "cell_type": "code",
   "execution_count": 2,
   "metadata": {},
   "outputs": [],
   "source": [
    "import librosa\n",
    "import numpy as np\n",
    "from CQT import cqt"
   ]
  },
  {
   "cell_type": "code",
   "execution_count": 3,
   "metadata": {},
   "outputs": [],
   "source": [
    "y, sr = librosa.load('data/MusicDelta_Hendrix_STEM_04.wav')\n",
    "C = np.abs(librosa.cqt(y, sr=16000, fmin=librosa.note_to_hz('C1')\n",
    "                       ,n_bins=24)) # n_bins upto 113\n"
   ]
  },
  {
   "cell_type": "code",
   "execution_count": 5,
   "metadata": {},
   "outputs": [
    {
     "ename": "AttributeError",
     "evalue": "module 'numpy' has no attribute 'complex'.\n`np.complex` was a deprecated alias for the builtin `complex`. To avoid this error in existing code, use `complex` by itself. Doing this will not modify any behavior and is safe. If you specifically wanted the numpy scalar type, use `np.complex128` here.\nThe aliases was originally deprecated in NumPy 1.20; for more details and guidance see the original release note at:\n    https://numpy.org/devdocs/release/1.20.0-notes.html#deprecations",
     "output_type": "error",
     "traceback": [
      "\u001b[0;31m---------------------------------------------------------------------------\u001b[0m",
      "\u001b[0;31mAttributeError\u001b[0m                            Traceback (most recent call last)",
      "Cell \u001b[0;32mIn[5], line 1\u001b[0m\n\u001b[0;32m----> 1\u001b[0m C_ \u001b[39m=\u001b[39m np\u001b[39m.\u001b[39mabs(cqt(y, fmin\u001b[39m=\u001b[39;49mlibrosa\u001b[39m.\u001b[39;49mnote_to_hz(\u001b[39m'\u001b[39;49m\u001b[39mA1\u001b[39;49m\u001b[39m'\u001b[39;49m), fmax\u001b[39m=\u001b[39;49mlibrosa\u001b[39m.\u001b[39;49mnote_to_hz(\u001b[39m'\u001b[39;49m\u001b[39mA8\u001b[39;49m\u001b[39m'\u001b[39;49m), bins\u001b[39m=\u001b[39;49m\u001b[39m128\u001b[39;49m, fs\u001b[39m=\u001b[39;49msr)[\u001b[39m'\u001b[39m\u001b[39mspCQT\u001b[39m\u001b[39m'\u001b[39m])\n",
      "File \u001b[0;32m~/Documents/ai_fau_study/Sose23/MPA_project/Mini_SPICE/CQT.py:156\u001b[0m, in \u001b[0;36mcqt\u001b[0;34m(x, fmin, fmax, bins, fs, **kwargs)\u001b[0m\n\u001b[1;32m    153\u001b[0m         x \u001b[39m=\u001b[39m filtfilt(B, A, x) \u001b[39m# anti aliasing filter\u001b[39;00m\n\u001b[1;32m    154\u001b[0m         x \u001b[39m=\u001b[39m x[::\u001b[39m2\u001b[39m] \u001b[39m# drop samplerate by 2\u001b[39;00m\n\u001b[0;32m--> 156\u001b[0m spCQT \u001b[39m=\u001b[39m cell2sparse(cellCQT, octaveNr, bins, cqtKernel[\u001b[39m'\u001b[39;49m\u001b[39mfirstcenter\u001b[39;49m\u001b[39m'\u001b[39;49m], cqtKernel[\u001b[39m'\u001b[39;49m\u001b[39matomHOP\u001b[39;49m\u001b[39m'\u001b[39;49m], cqtKernel[\u001b[39m'\u001b[39;49m\u001b[39matomNr\u001b[39;49m\u001b[39m'\u001b[39;49m])\n\u001b[1;32m    158\u001b[0m intParam \u001b[39m=\u001b[39m {\u001b[39m'\u001b[39m\u001b[39msufZeros\u001b[39m\u001b[39m'\u001b[39m:suffixZeros,\u001b[39m'\u001b[39m\u001b[39mpreZeros\u001b[39m\u001b[39m'\u001b[39m:prefixZeros,\u001b[39m'\u001b[39m\u001b[39mxlen_init\u001b[39m\u001b[39m'\u001b[39m:xlen_init,\u001b[39m'\u001b[39m\u001b[39mfftLEN\u001b[39m\u001b[39m'\u001b[39m:cqtKernel[\u001b[39m'\u001b[39m\u001b[39mfftLEN\u001b[39m\u001b[39m'\u001b[39m],\u001b[39m'\u001b[39m\u001b[39mfftHOP\u001b[39m\u001b[39m'\u001b[39m:cqtKernel[\u001b[39m'\u001b[39m\u001b[39mfftHOP\u001b[39m\u001b[39m'\u001b[39m],\n\u001b[1;32m    159\u001b[0m     \u001b[39m'\u001b[39m\u001b[39mq\u001b[39m\u001b[39m'\u001b[39m:q,\u001b[39m'\u001b[39m\u001b[39mfiltCoeffA\u001b[39m\u001b[39m'\u001b[39m:A,\u001b[39m'\u001b[39m\u001b[39mfiltCoeffB\u001b[39m\u001b[39m'\u001b[39m:B,\u001b[39m'\u001b[39m\u001b[39mfirstcenter\u001b[39m\u001b[39m'\u001b[39m:cqtKernel[\u001b[39m'\u001b[39m\u001b[39mfirstcenter\u001b[39m\u001b[39m'\u001b[39m],\u001b[39m'\u001b[39m\u001b[39matomHOP\u001b[39m\u001b[39m'\u001b[39m:cqtKernel[\u001b[39m'\u001b[39m\u001b[39matomHOP\u001b[39m\u001b[39m'\u001b[39m],\n\u001b[1;32m    160\u001b[0m     \u001b[39m'\u001b[39m\u001b[39matomNr\u001b[39m\u001b[39m'\u001b[39m:cqtKernel[\u001b[39m'\u001b[39m\u001b[39matomNr\u001b[39m\u001b[39m'\u001b[39m],\u001b[39m'\u001b[39m\u001b[39mNk_max\u001b[39m\u001b[39m'\u001b[39m:cqtKernel[\u001b[39m'\u001b[39m\u001b[39mNk_max\u001b[39m\u001b[39m'\u001b[39m],\u001b[39m'\u001b[39m\u001b[39mQ\u001b[39m\u001b[39m'\u001b[39m:cqtKernel[\u001b[39m'\u001b[39m\u001b[39mQ\u001b[39m\u001b[39m'\u001b[39m],\u001b[39m'\u001b[39m\u001b[39mrast\u001b[39m\u001b[39m'\u001b[39m:\u001b[39m0\u001b[39m}\n\u001b[1;32m    162\u001b[0m Xcqt \u001b[39m=\u001b[39m {\u001b[39m'\u001b[39m\u001b[39mspCQT\u001b[39m\u001b[39m'\u001b[39m:spCQT,\u001b[39m'\u001b[39m\u001b[39mfKernel\u001b[39m\u001b[39m'\u001b[39m:cqtKernel[\u001b[39m'\u001b[39m\u001b[39mfKernel\u001b[39m\u001b[39m'\u001b[39m],\u001b[39m'\u001b[39m\u001b[39mfmax\u001b[39m\u001b[39m'\u001b[39m:fmax,\u001b[39m'\u001b[39m\u001b[39mfmin\u001b[39m\u001b[39m'\u001b[39m:fmin,\u001b[39m'\u001b[39m\u001b[39moctaveNr\u001b[39m\u001b[39m'\u001b[39m:octaveNr,\u001b[39m'\u001b[39m\u001b[39mbins\u001b[39m\u001b[39m'\u001b[39m:cqtKernel[\u001b[39m'\u001b[39m\u001b[39mbins\u001b[39m\u001b[39m'\u001b[39m],\u001b[39m'\u001b[39m\u001b[39mintParams\u001b[39m\u001b[39m'\u001b[39m:intParam}\n",
      "File \u001b[0;32m~/Documents/ai_fau_study/Sose23/MPA_project/Mini_SPICE/CQT.py:394\u001b[0m, in \u001b[0;36mcell2sparse\u001b[0;34m(Xcq, octaves, bins, firstcenter, atomHOP, atomNr)\u001b[0m\n\u001b[1;32m    392\u001b[0m drops \u001b[39m=\u001b[39m emptyHops\u001b[39m*\u001b[39mnp\u001b[39m.\u001b[39mpower(\u001b[39m2\u001b[39m, octaves \u001b[39m-\u001b[39m np\u001b[39m.\u001b[39marange(\u001b[39m1\u001b[39m, octaves \u001b[39m+\u001b[39m \u001b[39m1\u001b[39m)) \u001b[39m-\u001b[39m emptyHops\n\u001b[1;32m    393\u001b[0m Len \u001b[39m=\u001b[39m \u001b[39mint\u001b[39m(np\u001b[39m.\u001b[39mmax((np\u001b[39m.\u001b[39masarray([atomNr\u001b[39m*\u001b[39mc\u001b[39m.\u001b[39mshape[\u001b[39m1\u001b[39m] \u001b[39mfor\u001b[39;00m _,c \u001b[39min\u001b[39;00m Xcq\u001b[39m.\u001b[39mitems()]) \u001b[39m-\u001b[39m drops) \u001b[39m*\u001b[39m np\u001b[39m.\u001b[39mpower(\u001b[39m2\u001b[39m, np\u001b[39m.\u001b[39marange(octaves)))) \u001b[39m# number of columns of output matrix \u001b[39;00m\n\u001b[0;32m--> 394\u001b[0m spCQT \u001b[39m=\u001b[39m np\u001b[39m.\u001b[39mempty((\u001b[39m0\u001b[39m,Len))\u001b[39m.\u001b[39mastype(np\u001b[39m.\u001b[39;49mcomplex)\n\u001b[1;32m    396\u001b[0m \u001b[39mfor\u001b[39;00m i \u001b[39min\u001b[39;00m \u001b[39mrange\u001b[39m(\u001b[39m1\u001b[39m, octaves\u001b[39m+\u001b[39m\u001b[39m1\u001b[39m)[::\u001b[39m-\u001b[39m\u001b[39m1\u001b[39m]:\n\u001b[1;32m    397\u001b[0m     drop \u001b[39m=\u001b[39m \u001b[39mint\u001b[39m(emptyHops\u001b[39m*\u001b[39m\u001b[39m2\u001b[39m\u001b[39m*\u001b[39m\u001b[39m*\u001b[39m(octaves\u001b[39m-\u001b[39mi)\u001b[39m-\u001b[39memptyHops) \u001b[39m# first coefficients of all octaves have to be in synchrony \u001b[39;00m\n",
      "File \u001b[0;32m~/anaconda3/envs/mpa/lib/python3.10/site-packages/numpy/__init__.py:305\u001b[0m, in \u001b[0;36m__getattr__\u001b[0;34m(attr)\u001b[0m\n\u001b[1;32m    300\u001b[0m     warnings\u001b[39m.\u001b[39mwarn(\n\u001b[1;32m    301\u001b[0m         \u001b[39mf\u001b[39m\u001b[39m\"\u001b[39m\u001b[39mIn the future `np.\u001b[39m\u001b[39m{\u001b[39;00mattr\u001b[39m}\u001b[39;00m\u001b[39m` will be defined as the \u001b[39m\u001b[39m\"\u001b[39m\n\u001b[1;32m    302\u001b[0m         \u001b[39m\"\u001b[39m\u001b[39mcorresponding NumPy scalar.\u001b[39m\u001b[39m\"\u001b[39m, \u001b[39mFutureWarning\u001b[39;00m, stacklevel\u001b[39m=\u001b[39m\u001b[39m2\u001b[39m)\n\u001b[1;32m    304\u001b[0m \u001b[39mif\u001b[39;00m attr \u001b[39min\u001b[39;00m __former_attrs__:\n\u001b[0;32m--> 305\u001b[0m     \u001b[39mraise\u001b[39;00m \u001b[39mAttributeError\u001b[39;00m(__former_attrs__[attr])\n\u001b[1;32m    307\u001b[0m \u001b[39m# Importing Tester requires importing all of UnitTest which is not a\u001b[39;00m\n\u001b[1;32m    308\u001b[0m \u001b[39m# cheap import Since it is mainly used in test suits, we lazy import it\u001b[39;00m\n\u001b[1;32m    309\u001b[0m \u001b[39m# here to save on the order of 10 ms of import time for most users\u001b[39;00m\n\u001b[1;32m    310\u001b[0m \u001b[39m#\u001b[39;00m\n\u001b[1;32m    311\u001b[0m \u001b[39m# The previous way Tester was imported also had a side effect of adding\u001b[39;00m\n\u001b[1;32m    312\u001b[0m \u001b[39m# the full `numpy.testing` namespace\u001b[39;00m\n\u001b[1;32m    313\u001b[0m \u001b[39mif\u001b[39;00m attr \u001b[39m==\u001b[39m \u001b[39m'\u001b[39m\u001b[39mtesting\u001b[39m\u001b[39m'\u001b[39m:\n",
      "\u001b[0;31mAttributeError\u001b[0m: module 'numpy' has no attribute 'complex'.\n`np.complex` was a deprecated alias for the builtin `complex`. To avoid this error in existing code, use `complex` by itself. Doing this will not modify any behavior and is safe. If you specifically wanted the numpy scalar type, use `np.complex128` here.\nThe aliases was originally deprecated in NumPy 1.20; for more details and guidance see the original release note at:\n    https://numpy.org/devdocs/release/1.20.0-notes.html#deprecations"
     ]
    }
   ],
   "source": [
    "C_ = np.abs(cqt(y, fmin=librosa.note_to_hz('A1'), fmax=librosa.note_to_hz('A8'), bins=128, fs=sr)['spCQT'])"
   ]
  },
  {
   "cell_type": "code",
   "execution_count": 4,
   "metadata": {},
   "outputs": [
    {
     "data": {
      "text/plain": [
       "(24, 855)"
      ]
     },
     "execution_count": 4,
     "metadata": {},
     "output_type": "execute_result"
    }
   ],
   "source": [
    "y.shape\n",
    "C.shape"
   ]
  },
  {
   "cell_type": "code",
   "execution_count": null,
   "metadata": {},
   "outputs": [],
   "source": []
  }
 ],
 "metadata": {
  "kernelspec": {
   "display_name": "Python 3",
   "language": "python",
   "name": "python3"
  },
  "language_info": {
   "codemirror_mode": {
    "name": "ipython",
    "version": 3
   },
   "file_extension": ".py",
   "mimetype": "text/x-python",
   "name": "python",
   "nbconvert_exporter": "python",
   "pygments_lexer": "ipython3",
   "version": "3.10.11"
  },
  "orig_nbformat": 4
 },
 "nbformat": 4,
 "nbformat_minor": 2
}
