{
 "cells": [
  {
   "cell_type": "code",
   "execution_count": 3,
   "metadata": {},
   "outputs": [],
   "source": [
    "import librosa\n",
    "import numpy as np\n",
    "from data_files.CQT import cqt\n",
    "import pandas as pd\n",
    "import torch\n",
    "import scipy\n",
    "from sklearn.model_selection import train_test_split\n",
    "\n",
    "from data_files.dataloader import MedleyDBLoader, MDBMelodySynthLoader, MIR1KLoader\n",
    "# from data_files.dataset import CQT_Dataset\n",
    "\n",
    "import IPython.display as ipd\n",
    "import matplotlib.pyplot as plt"
   ]
  },
  {
   "cell_type": "code",
   "execution_count": 4,
   "metadata": {},
   "outputs": [],
   "source": [
    "fs = 16000\n",
    "\n",
    "medleyDB = MedleyDBLoader(fs)\n",
    "mdbSynth = MDBMelodySynthLoader(fs)\n",
    "mir1k = MIR1KLoader(fs)"
   ]
  },
  {
   "cell_type": "code",
   "execution_count": 5,
   "metadata": {},
   "outputs": [
    {
     "data": {
      "text/plain": [
       "65"
      ]
     },
     "execution_count": 5,
     "metadata": {},
     "output_type": "execute_result"
    }
   ],
   "source": [
    "id_list = medleyDB.get_ids()\n",
    "len(id_list)"
   ]
  },
  {
   "cell_type": "code",
   "execution_count": 66,
   "metadata": {},
   "outputs": [
    {
     "name": "stdout",
     "output_type": "stream",
     "text": [
      "(2, 4807500) MatthewEntwistle_FairerHopes_STEM_14\n",
      "(2, 1071452) MusicDelta_LatinJazz_STEM_04\n",
      "(2, 2350973) BigTroubles_Phantom_STEM_04\n",
      "(2, 3131871) ClaraBerryAndWooldog_Stella_STEM_07\n",
      "(2, 5072236) PortStWillow_StayEven_STEM_08\n"
     ]
    }
   ],
   "source": [
    "songs = []\n",
    "f0s = []\n",
    "for i,x in enumerate(id_list[:5]):\n",
    "    so, f0 = medleyDB.load_data(x)\n",
    "    print(so.shape, x)\n",
    "    # songs.append(librosa.to_mono(so))\n",
    "    songs.append(so)\n",
    "    f0s.append(f0)"
   ]
  },
  {
   "cell_type": "code",
   "execution_count": 8,
   "metadata": {},
   "outputs": [
    {
     "data": {
      "text/plain": [
       "66699551.87484806"
      ]
     },
     "execution_count": 8,
     "metadata": {},
     "output_type": "execute_result"
    }
   ],
   "source": [
    "sum([np.sum(i) for i in f0s])"
   ]
  },
  {
   "cell_type": "code",
   "execution_count": 72,
   "metadata": {},
   "outputs": [
    {
     "data": {
      "text/plain": [
       "array([[ 22.62204082,  22.6278458 ,  22.63365079,  22.63945578,\n",
       "         22.64526077],\n",
       "       [734.034     , 733.822     , 733.736     , 733.609     ,\n",
       "        733.748     ]])"
      ]
     },
     "execution_count": 72,
     "metadata": {},
     "output_type": "execute_result"
    }
   ],
   "source": [
    "len(f0s[0][2])\n",
    "# len([f2 for f2 in f0s[0][2] if f2!= 0])\n",
    "# for i, v in enumerate(f0s[0][2]):\n",
    "#     if v != 0:\n",
    "#         print(i)\n",
    "#         break\n",
    "\n",
    "np.vstack((f0s[0][0][3897:3902], f0s[0][2][3897:3902]))"
   ]
  },
  {
   "cell_type": "code",
   "execution_count": 63,
   "metadata": {},
   "outputs": [
    {
     "data": {
      "text/plain": [
       "0.0"
      ]
     },
     "execution_count": 63,
     "metadata": {},
     "output_type": "execute_result"
    }
   ],
   "source": [
    "## lets break down the be below cell\n",
    "\n",
    "Cqtt = np.zeros((1, 190)) #why this needed? simply C.T doesn't work?\n",
    "\n",
    "C = np.abs(librosa.cqt(songs[0], sr=fs, hop_length=512, #window=librosa.filters.get_window('hann', Nx=1024, fftbins=False), \n",
    "        fmin= librosa.note_to_hz('C1'),\n",
    "        n_bins=190, bins_per_octave=24))\n",
    "# Cqtt = np.vstack((Cqtt, C.T))\n",
    "# Cqtt.shape\n",
    "inter = scipy.interpolate.interp1d(x=f0s[0][0], y=f0s[0][2], axis=0)\n",
    "f0_inter = inter(C[0])\n",
    "f0_inter.sum()\n",
    "# f = plt.figure() \n",
    "# f, axes = plt.subplots(nrows = 2, sharex=True, sharey = True)\n",
    "# axes[0].scatter(x,y)\n",
    "# axes[0].set_xlabel('Old')\n",
    "# axes[1].scatter(xnew,ynew)\n",
    "# axes[1].set_xlabel('New')\n",
    "# plt.scatter(x, y, color = 'blue')\n",
    "# plt.plot(xnew, ynew, color = 'black')\n",
    "# plt.xlabel(\"X\")\n",
    "# plt.ylabel(\"Y\")\n",
    "# plt.title(\"1d Interpolation using scipy interp1d method\")\n",
    "# plt.show()\n",
    "# plt.savefig('output/graph.png')"
   ]
  },
  {
   "cell_type": "code",
   "execution_count": 9,
   "metadata": {},
   "outputs": [
    {
     "name": "stdout",
     "output_type": "stream",
     "text": [
      "Songs shape:  (4807500,) F0 shape:  (3, 51761)\n",
      "Cqt shape:  (190, 9390)\n",
      "Reshape F0:  (9390,)\n",
      "Songs shape:  (1071452,) F0 shape:  (3, 11536)\n",
      "Cqt shape:  (190, 2093)\n",
      "Reshape F0:  (2093,)\n",
      "Songs shape:  (2350973,) F0 shape:  (3, 25312)\n",
      "Cqt shape:  (190, 4592)\n",
      "Reshape F0:  (4592,)\n",
      "Songs shape:  (3131871,) F0 shape:  (3, 33720)\n",
      "Cqt shape:  (190, 6117)\n",
      "Reshape F0:  (6117,)\n",
      "Songs shape:  (5072236,) F0 shape:  (3, 54611)\n",
      "Cqt shape:  (190, 9907)\n",
      "Reshape F0:  (9907,)\n",
      "CQT Shape:  (32100, 190)\n",
      "F0 shape:  (32100,)\n"
     ]
    }
   ],
   "source": [
    "Cqtt = np.zeros((1, 190))\n",
    "f0s_inter = np.zeros(1)\n",
    "for s, f in zip(songs, f0s):\n",
    "    print(\"Songs shape: \", s.shape,\"F0 shape: \", f.shape )\n",
    "    C = np.abs(librosa.cqt(s, sr=fs, hop_length=512, #window=librosa.filters.get_window('hann', Nx=1024, fftbins=False), \n",
    "            fmin= librosa.note_to_hz('C1'),\n",
    "            n_bins=190, bins_per_octave=24))\n",
    "    print(\"Cqt shape: \", C.shape)\n",
    "    Cqtt = np.vstack((Cqtt, C.T))\n",
    "    inter = scipy.interpolate.interp1d(x=f[0], y=f[2], axis=0)\n",
    "    f0_inter = inter(C[0])\n",
    "    f0s_inter = np.concatenate((f0s_inter, f0_inter))\n",
    "    print(\"Reshape F0: \", f0_inter.shape )\n",
    "print(\"CQT Shape: \", Cqtt.shape)\n",
    "print(\"F0 shape: \", f0s_inter.shape)"
   ]
  },
  {
   "cell_type": "code",
   "execution_count": 10,
   "metadata": {},
   "outputs": [
    {
     "name": "stdout",
     "output_type": "stream",
     "text": [
      "CQT Shape:  (32099, 190)\n",
      "F0 shape:  (32099, 1)\n"
     ]
    }
   ],
   "source": [
    "# remove zero rows\n",
    "Cqtt = Cqtt[1:, :]\n",
    "f0s_inter = f0s_inter[1:]\n",
    "#elevate f0\n",
    "f0s_inter = f0s_inter.reshape(-1, 1)\n",
    "print(\"CQT Shape: \", Cqtt.shape)\n",
    "print(\"F0 shape: \", f0s_inter.reshape(-1,1).shape)"
   ]
  },
  {
   "cell_type": "code",
   "execution_count": 15,
   "metadata": {},
   "outputs": [],
   "source": [
    "file_path = \"./data/CQT_dataset/\"+\"medley\" + \".npy\"\n",
    "\n",
    "# print(file_path)\n",
    "with open(file_path, 'wb') as f:\n",
    "    np.save(file=f, arr=Cqtt)"
   ]
  },
  {
   "cell_type": "code",
   "execution_count": 16,
   "metadata": {},
   "outputs": [
    {
     "data": {
      "text/plain": [
       "'/Users/jibaksarkar/Documents/AI_MS_FAU/Sem_3/MPA Project/Code/Mini_SPICE'"
      ]
     },
     "execution_count": 16,
     "metadata": {},
     "output_type": "execute_result"
    }
   ],
   "source": [
    "import os \n",
    "\n",
    "os.path.abspath(os.getcwd())"
   ]
  },
  {
   "cell_type": "code",
   "execution_count": 17,
   "metadata": {},
   "outputs": [],
   "source": [
    "# make the last column as f0s\n",
    "dataset = np.hstack((Cqtt, f0s_inter))"
   ]
  },
  {
   "cell_type": "code",
   "execution_count": 59,
   "metadata": {},
   "outputs": [
    {
     "data": {
      "text/plain": [
       "0.0"
      ]
     },
     "execution_count": 59,
     "metadata": {},
     "output_type": "execute_result"
    }
   ],
   "source": [
    "np.sum(f0s_inter)"
   ]
  },
  {
   "cell_type": "code",
   "execution_count": 25,
   "metadata": {},
   "outputs": [],
   "source": [
    "# librosa.cqt_frequencies(n_bins=190, fmin=librosa.note_to_hz('C1'), bins_per_octave=24)"
   ]
  },
  {
   "cell_type": "code",
   "execution_count": 58,
   "metadata": {},
   "outputs": [],
   "source": [
    "# as 190 is feature number so we transpose\n",
    "data = pd.DataFrame(data=dataset)"
   ]
  },
  {
   "cell_type": "code",
   "execution_count": 19,
   "metadata": {},
   "outputs": [
    {
     "data": {
      "text/plain": [
       "(25679, 191)"
      ]
     },
     "execution_count": 19,
     "metadata": {},
     "output_type": "execute_result"
    }
   ],
   "source": [
    "train, val = train_test_split(data, train_size=0.8, test_size=0.2, random_state=1)\n",
    "train.shape"
   ]
  },
  {
   "cell_type": "code",
   "execution_count": 66,
   "metadata": {},
   "outputs": [],
   "source": [
    "dataa = train.iloc[:, :-1]\n",
    "# dataa.head()"
   ]
  },
  {
   "cell_type": "code",
   "execution_count": 14,
   "metadata": {},
   "outputs": [],
   "source": [
    "t_batch = torch.utils.data.DataLoader(CQT_Dataset(data=train, mode='train'), batch_size=64, shuffle=False)"
   ]
  },
  {
   "cell_type": "code",
   "execution_count": 16,
   "metadata": {},
   "outputs": [
    {
     "name": "stdout",
     "output_type": "stream",
     "text": [
      "211\n"
     ]
    }
   ],
   "source": [
    "batch_counter = 0\n",
    "for b in t_batch:\n",
    "    batch_counter += 1\n",
    "    d, s1, s2 ,f = b\n",
    "    #print(s.shape, d.shape, f.shape)\n",
    "print(batch_counter)"
   ]
  },
  {
   "attachments": {},
   "cell_type": "markdown",
   "metadata": {},
   "source": [
    "## Rough works"
   ]
  },
  {
   "cell_type": "code",
   "execution_count": 17,
   "metadata": {},
   "outputs": [
    {
     "data": {
      "text/plain": [
       "(2, 6701068)"
      ]
     },
     "execution_count": 17,
     "metadata": {},
     "output_type": "execute_result"
    }
   ],
   "source": [
    "my_id = 'AlexanderRoss_GoodbyeBolero_STEM_06'\n",
    "\n",
    "x, f0 = medleyDB.load_data(my_id)\n",
    "x.shape"
   ]
  },
  {
   "cell_type": "code",
   "execution_count": 18,
   "metadata": {},
   "outputs": [
    {
     "name": "stdout",
     "output_type": "stream",
     "text": [
      "(72148,) (72148,) (72148,)\n"
     ]
    }
   ],
   "source": [
    "print(f0[0].shape, f0[2].shape, f0[1].shape)"
   ]
  },
  {
   "cell_type": "code",
   "execution_count": 19,
   "metadata": {},
   "outputs": [],
   "source": [
    "inter = scipy.interpolate.interp1d(x=f0[0], y=f0[2], axis=0)\n"
   ]
  },
  {
   "cell_type": "code",
   "execution_count": 20,
   "metadata": {},
   "outputs": [],
   "source": [
    "f0_interpolated = inter(C[0])"
   ]
  },
  {
   "cell_type": "code",
   "execution_count": 21,
   "metadata": {},
   "outputs": [
    {
     "data": {
      "text/plain": [
       "(546,)"
      ]
     },
     "execution_count": 21,
     "metadata": {},
     "output_type": "execute_result"
    }
   ],
   "source": [
    "f0_interpolated.shape"
   ]
  },
  {
   "cell_type": "code",
   "execution_count": 23,
   "metadata": {},
   "outputs": [
    {
     "data": {
      "text/plain": [
       "92.87981859410431"
      ]
     },
     "execution_count": 23,
     "metadata": {},
     "output_type": "execute_result"
    }
   ],
   "source": [
    "(256/44100)*16000"
   ]
  },
  {
   "cell_type": "code",
   "execution_count": 62,
   "metadata": {},
   "outputs": [
    {
     "name": "stdout",
     "output_type": "stream",
     "text": [
      "(72148,) (72148,) (72148,)\n"
     ]
    }
   ],
   "source": []
  },
  {
   "cell_type": "code",
   "execution_count": 21,
   "metadata": {},
   "outputs": [],
   "source": [
    "# plt.plot(f0[0], f0[2])"
   ]
  },
  {
   "cell_type": "code",
   "execution_count": 25,
   "metadata": {},
   "outputs": [
    {
     "data": {
      "text/plain": [
       "6688000"
      ]
     },
     "execution_count": 25,
     "metadata": {},
     "output_type": "execute_result"
    }
   ],
   "source": [
    "16000*418"
   ]
  },
  {
   "cell_type": "code",
   "execution_count": 26,
   "metadata": {},
   "outputs": [
    {
     "data": {
      "text/plain": [
       "418.81675"
      ]
     },
     "execution_count": 26,
     "metadata": {},
     "output_type": "execute_result"
    }
   ],
   "source": [
    "(6701068/16000)"
   ]
  },
  {
   "cell_type": "code",
   "execution_count": 27,
   "metadata": {},
   "outputs": [
    {
     "name": "stdout",
     "output_type": "stream",
     "text": [
      "diff batch shape: torch.Size([64])\n",
      "slice1 batch shape: torch.Size([64, 128])\n",
      "slice2 batch shape: torch.Size([64, 128])\n"
     ]
    }
   ],
   "source": [
    "diff, slice1, slice2, f0 = next(iter(t_batch))\n",
    "print(f\"diff batch shape: {diff.size()}\")\n",
    "print(f\"slice1 batch shape: {slice1.size()}\")\n",
    "print(f\"slice2 batch shape: {slice2.size()}\")"
   ]
  },
  {
   "cell_type": "code",
   "execution_count": 20,
   "metadata": {},
   "outputs": [],
   "source": [
    "# Cell output takes up lot of memory in the repo, clear it everytime\n",
    "# ipd.display(ipd.Audio(x, rate=fs))"
   ]
  },
  {
   "cell_type": "code",
   "execution_count": 29,
   "metadata": {},
   "outputs": [],
   "source": [
    "#y, sr = librosa.load('data/MusicDelta_Hendrix_STEM_04.wav')\n",
    "C = np.abs(librosa.cqt(x, sr=fs, hop_length=512, #window=librosa.filters.get_window('hann', Nx=1024, fftbins=False), \n",
    "            fmin= librosa.note_to_hz('C1'),\n",
    "            n_bins=190, bins_per_octave=24)) # n_bins upto 113\n"
   ]
  },
  {
   "cell_type": "code",
   "execution_count": 30,
   "metadata": {},
   "outputs": [],
   "source": [
    "C = np.sum(C, axis=0)"
   ]
  },
  {
   "cell_type": "code",
   "execution_count": 31,
   "metadata": {},
   "outputs": [
    {
     "data": {
      "text/plain": [
       "(13089,)"
      ]
     },
     "execution_count": 31,
     "metadata": {},
     "output_type": "execute_result"
    }
   ],
   "source": [
    "C[0].shape"
   ]
  },
  {
   "cell_type": "code",
   "execution_count": 32,
   "metadata": {},
   "outputs": [
    {
     "data": {
      "text/plain": [
       "511.96179998472"
      ]
     },
     "execution_count": 32,
     "metadata": {},
     "output_type": "execute_result"
    }
   ],
   "source": [
    "6701068/13089"
   ]
  },
  {
   "cell_type": "code",
   "execution_count": 33,
   "metadata": {},
   "outputs": [
    {
     "data": {
      "text/plain": [
       "(13089,)"
      ]
     },
     "execution_count": 33,
     "metadata": {},
     "output_type": "execute_result"
    }
   ],
   "source": [
    "np.sum(C, axis=0).shape"
   ]
  },
  {
   "cell_type": "code",
   "execution_count": 34,
   "metadata": {},
   "outputs": [
    {
     "ename": "IndexError",
     "evalue": "too many indices for array: array is 2-dimensional, but 3 were indexed",
     "output_type": "error",
     "traceback": [
      "\u001b[0;31m---------------------------------------------------------------------------\u001b[0m",
      "\u001b[0;31mIndexError\u001b[0m                                Traceback (most recent call last)",
      "Cell \u001b[0;32mIn[34], line 1\u001b[0m\n\u001b[0;32m----> 1\u001b[0m plt\u001b[39m.\u001b[39mpcolormesh(C[\u001b[39m1\u001b[39;49m,:,:], cmap\u001b[39m=\u001b[39m\u001b[39m'\u001b[39m\u001b[39mgray_r\u001b[39m\u001b[39m'\u001b[39m)\n\u001b[1;32m      2\u001b[0m plt\u001b[39m.\u001b[39mshow()\n",
      "\u001b[0;31mIndexError\u001b[0m: too many indices for array: array is 2-dimensional, but 3 were indexed"
     ]
    }
   ],
   "source": [
    "plt.pcolormesh(C[1,:,:], cmap='gray_r')\n",
    "plt.show()"
   ]
  },
  {
   "cell_type": "code",
   "execution_count": null,
   "metadata": {},
   "outputs": [],
   "source": [
    "plt.pcolormesh(np.sum(C, axis=0), cmap='gray_r')\n",
    "plt.show()"
   ]
  },
  {
   "cell_type": "code",
   "execution_count": null,
   "metadata": {},
   "outputs": [],
   "source": [
    "librosa.note_to_hz('B8')"
   ]
  },
  {
   "cell_type": "code",
   "execution_count": null,
   "metadata": {},
   "outputs": [],
   "source": [
    "C_ = np.abs(cqt(x, fmin=librosa.note_to_hz('C1'), fmax=librosa.note_to_hz('B8'), bins=24, fs=sr)['spCQT'])"
   ]
  },
  {
   "cell_type": "code",
   "execution_count": null,
   "metadata": {},
   "outputs": [],
   "source": [
    "C_.shape"
   ]
  },
  {
   "cell_type": "code",
   "execution_count": null,
   "metadata": {},
   "outputs": [],
   "source": [
    "plt.pcolormesh(C_)\n",
    "plt.show()"
   ]
  },
  {
   "cell_type": "code",
   "execution_count": null,
   "metadata": {},
   "outputs": [],
   "source": [
    "np.divmod(190, 24)"
   ]
  },
  {
   "cell_type": "code",
   "execution_count": null,
   "metadata": {},
   "outputs": [],
   "source": [
    "np.divmod(88539, 64)\n"
   ]
  }
 ],
 "metadata": {
  "interpreter": {
   "hash": "2fed21d7f443e9082cfc6ba2fbe018596127843c8658e141820a67f60820f8cf"
  },
  "kernelspec": {
   "display_name": "Python 3.10.11 ('mpa')",
   "language": "python",
   "name": "python3"
  },
  "language_info": {
   "codemirror_mode": {
    "name": "ipython",
    "version": 3
   },
   "file_extension": ".py",
   "mimetype": "text/x-python",
   "name": "python",
   "nbconvert_exporter": "python",
   "pygments_lexer": "ipython3",
   "version": "3.9.7"
  },
  "orig_nbformat": 4
 },
 "nbformat": 4,
 "nbformat_minor": 2
}
