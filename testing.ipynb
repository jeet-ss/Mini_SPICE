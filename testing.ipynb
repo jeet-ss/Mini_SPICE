{
 "cells": [
  {
   "cell_type": "code",
   "execution_count": 1,
   "metadata": {},
   "outputs": [],
   "source": [
    "import torch\n",
    "from torch import nn"
   ]
  },
  {
   "cell_type": "code",
   "execution_count": 37,
   "metadata": {},
   "outputs": [],
   "source": [
    "x_1 = torch.arange(10, 40, 1, dtype=torch.float64).reshape((10,3))\n",
    "x_2 = torch.arange(50, 80, 1, dtype=torch.float64).reshape((10,3))\n",
    "hat_x_1 = torch.arange(0, 30, 1, dtype=torch.float64).reshape((10,3))\n",
    "hat_x_2 = torch.arange(0, 30, 1, dtype=torch.float64).reshape((10,3))"
   ]
  },
  {
   "cell_type": "code",
   "execution_count": 25,
   "metadata": {},
   "outputs": [],
   "source": [
    "import torch as t"
   ]
  },
  {
   "cell_type": "code",
   "execution_count": 40,
   "metadata": {},
   "outputs": [],
   "source": [
    "error = t.mean(t.add(t.square(t.linalg.norm(t.sub(x_1, hat_x_1), dim=1, ord=2)),\n",
    "                        t.square(t.linalg.norm(t.sub(x_2, hat_x_2), dim=1, ord=2))))"
   ]
  },
  {
   "cell_type": "code",
   "execution_count": 41,
   "metadata": {},
   "outputs": [
    {
     "data": {
      "text/plain": [
       "tensor(7800., dtype=torch.float64)"
      ]
     },
     "execution_count": 41,
     "metadata": {},
     "output_type": "execute_result"
    }
   ],
   "source": [
    "error"
   ]
  },
  {
   "cell_type": "code",
   "execution_count": null,
   "metadata": {},
   "outputs": [],
   "source": [
    "torch.cuda.is_available()\n"
   ]
  },
  {
   "cell_type": "code",
   "execution_count": null,
   "metadata": {},
   "outputs": [],
   "source": [
    "def foww(x,):\n",
    "    c1 = nn.Conv1d(1, 64, kernel_size=3, padding=1, stride=1 ,bias=True)  # same padding ,\n",
    "    mx = nn.MaxPool1d(kernel_size=3, stride=2, padding=1, return_indices=True )  # valid padding, stride=kernel_size\n",
    "    x = c1(x)\n",
    "    print('Layer 1: ', x.size())\n",
    "    x, i1 = mx(x)\n",
    "    print('Layer 1 after Pooling: ', x.size())\n",
    "    print(\"batchsize: \", x.size()[0])\n",
    "    \n",
    "    c2 = nn.Conv1d(64, 128, kernel_size=3, padding=1, stride=1 ,bias=True) \n",
    "    x = c2(x)\n",
    "    print('Layer 2: ', x.size())\n",
    "    x, i2 = mx(x)\n",
    "    print('Layer 2 after Pooling: ', x.size())\n",
    "\n",
    "\n",
    "    c3 = nn.Conv1d(128, 256, kernel_size=3, padding=1, stride=1 ,bias=True)\n",
    "    x = c3(x)\n",
    "    print('Layer 3: ', x.size())\n",
    "    x, i3 = mx(x)\n",
    "    print('Layer 3 after Pooling: ', x.size())\n",
    "    return x, [i1, i2 ,i3]"
   ]
  },
  {
   "cell_type": "code",
   "execution_count": null,
   "metadata": {},
   "outputs": [],
   "source": [
    "x, _ = foww(torch.arange(0, 1280, 1).type(torch.FloatTensor).reshape(10, 1, -1))\n",
    "print(\"output\", x.size())"
   ]
  },
  {
   "cell_type": "code",
   "execution_count": null,
   "metadata": {},
   "outputs": [],
   "source": [
    "a[0].size()\n"
   ]
  },
  {
   "cell_type": "code",
   "execution_count": null,
   "metadata": {},
   "outputs": [],
   "source": [
    "device = torch.cuda.FloatTensor if torch.cuda.is_available() else torch.FloatTensor\n",
    "print(device)"
   ]
  },
  {
   "cell_type": "code",
   "execution_count": null,
   "metadata": {},
   "outputs": [],
   "source": [
    "torch.arange(0, 12, 1).type(torch.FloatTensor).cuda()"
   ]
  },
  {
   "cell_type": "code",
   "execution_count": null,
   "metadata": {},
   "outputs": [],
   "source": [
    "x = torch.arange(0, 1024, 1).type(torch.FloatTensor)\n",
    "k = torch.tensor([1, 2, -1]).type(torch.FloatTensor)\n",
    "l = torch.arange(0, 512, 1).type(torch.FloatTensor)\n",
    "BATCH_SIZE, IN_CH, OUT_CH = 1, 1, 1024"
   ]
  },
  {
   "cell_type": "code",
   "execution_count": null,
   "metadata": {},
   "outputs": [],
   "source": [
    "mx = nn.MaxPool1d(kernel_size=2, stride=1, padding=0 ).cuda()"
   ]
  },
  {
   "cell_type": "code",
   "execution_count": null,
   "metadata": {},
   "outputs": [],
   "source": [
    "# Pad with len(k)-1 zeros to ensure all non-zero outputs are computed.\n",
    "h = nn.Conv1d(IN_CH, OUT_CH, kernel_size=512, padding=1, stride=4 ,bias=True)"
   ]
  },
  {
   "cell_type": "code",
   "execution_count": null,
   "metadata": {},
   "outputs": [],
   "source": [
    "# Pad with len(k)-1 zeros to ensure all non-zero outputs are computed.\n",
    "d = nn.Conv2d(IN_CH, OUT_CH, kernel_size=512, padding=511, stride=4 , bias=True)"
   ]
  },
  {
   "cell_type": "code",
   "execution_count": null,
   "metadata": {},
   "outputs": [],
   "source": [
    "x.reshape(BATCH_SIZE, IN_CH, -1).size()"
   ]
  },
  {
   "cell_type": "code",
   "execution_count": null,
   "metadata": {},
   "outputs": [],
   "source": [
    "y =d(x.reshape(BATCH_SIZE, IN_CH, -1))\n",
    "print(y.size())"
   ]
  },
  {
   "cell_type": "code",
   "execution_count": null,
   "metadata": {},
   "outputs": [],
   "source": [
    "mx(y).size()"
   ]
  },
  {
   "cell_type": "code",
   "execution_count": null,
   "metadata": {},
   "outputs": [],
   "source": []
  }
 ],
 "metadata": {
  "interpreter": {
   "hash": "2fed21d7f443e9082cfc6ba2fbe018596127843c8658e141820a67f60820f8cf"
  },
  "kernelspec": {
   "display_name": "Python 3.10.11 ('mpa')",
   "language": "python",
   "name": "python3"
  },
  "language_info": {
   "codemirror_mode": {
    "name": "ipython",
    "version": 3
   },
   "file_extension": ".py",
   "mimetype": "text/x-python",
   "name": "python",
   "nbconvert_exporter": "python",
   "pygments_lexer": "ipython3",
   "version": "3.10.11"
  },
  "orig_nbformat": 4
 },
 "nbformat": 4,
 "nbformat_minor": 2
}
