{
 "cells": [
  {
   "cell_type": "code",
   "execution_count": 1,
   "metadata": {},
   "outputs": [],
   "source": [
    "import torch\n",
    "from torch import nn"
   ]
  },
  {
   "cell_type": "code",
   "execution_count": 2,
   "metadata": {},
   "outputs": [
    {
     "data": {
      "text/plain": [
       "False"
      ]
     },
     "execution_count": 2,
     "metadata": {},
     "output_type": "execute_result"
    }
   ],
   "source": [
    "torch.cuda.is_available()\n"
   ]
  },
  {
   "cell_type": "code",
   "execution_count": 6,
   "metadata": {},
   "outputs": [],
   "source": [
    "def foww(x,):\n",
    "    c1 = nn.Conv1d(1, 64, kernel_size=3, padding=1, stride=1 ,bias=True)  # same padding ,\n",
    "    mx = nn.MaxPool1d(kernel_size=3, stride=2, padding=1, return_indices=True )  # valid padding, stride=kernel_size\n",
    "    x = c1(x)\n",
    "    print('Layer 1: ', x.size())\n",
    "    x, i1 = mx(x)\n",
    "    print('Layer 1 after Pooling: ', x.size())\n",
    "    print(\"batchsize: \", x.size()[0])\n",
    "    \n",
    "    c2 = nn.Conv1d(64, 128, kernel_size=3, padding=1, stride=1 ,bias=True) \n",
    "    x = c2(x)\n",
    "    print('Layer 2: ', x.size())\n",
    "    x, i2 = mx(x)\n",
    "    print('Layer 2 after Pooling: ', x.size())\n",
    "\n",
    "\n",
    "    c3 = nn.Conv1d(128, 256, kernel_size=3, padding=1, stride=1 ,bias=True)\n",
    "    x = c3(x)\n",
    "    print('Layer 3: ', x.size())\n",
    "    x, i3 = mx(x)\n",
    "    print('Layer 3 after Pooling: ', x.size())\n",
    "    return x"
   ]
  },
  {
   "cell_type": "code",
   "execution_count": 4,
   "metadata": {},
   "outputs": [],
   "source": [
    "x = torch.arange(0, 1280, 1).type(torch.FloatTensor).reshape(10, 1, -1)\n"
   ]
  },
  {
   "cell_type": "code",
   "execution_count": 7,
   "metadata": {},
   "outputs": [
    {
     "name": "stdout",
     "output_type": "stream",
     "text": [
      "Layer 1:  torch.Size([10, 64, 128])\n",
      "Layer 1 after Pooling:  torch.Size([10, 64, 64])\n",
      "batchsize:  10\n",
      "Layer 2:  torch.Size([10, 128, 64])\n",
      "Layer 2 after Pooling:  torch.Size([10, 128, 32])\n",
      "Layer 3:  torch.Size([10, 256, 32])\n",
      "Layer 3 after Pooling:  torch.Size([10, 256, 16])\n",
      "torch.Size([10, 256, 16])\n"
     ]
    }
   ],
   "source": [
    "x = foww(x)\n",
    "print(\"output\", x.size())"
   ]
  },
  {
   "cell_type": "code",
   "execution_count": 4,
   "metadata": {},
   "outputs": [
    {
     "name": "stdout",
     "output_type": "stream",
     "text": [
      "<class 'torch.cuda.FloatTensor'>\n"
     ]
    }
   ],
   "source": [
    "device = torch.cuda.FloatTensor if torch.cuda.is_available() else torch.FloatTensor\n",
    "print(device)"
   ]
  },
  {
   "cell_type": "code",
   "execution_count": 4,
   "metadata": {},
   "outputs": [
    {
     "data": {
      "text/plain": [
       "tensor([ 0.,  1.,  2.,  3.,  4.,  5.,  6.,  7.,  8.,  9., 10., 11.],\n",
       "       device='cuda:0')"
      ]
     },
     "execution_count": 4,
     "metadata": {},
     "output_type": "execute_result"
    }
   ],
   "source": [
    "torch.arange(0, 12, 1).type(torch.FloatTensor).cuda()"
   ]
  },
  {
   "cell_type": "code",
   "execution_count": 5,
   "metadata": {},
   "outputs": [],
   "source": [
    "x = torch.arange(0, 1024, 1).type(torch.FloatTensor)\n",
    "k = torch.tensor([1, 2, -1]).type(torch.FloatTensor)\n",
    "l = torch.arange(0, 512, 1).type(torch.FloatTensor)\n",
    "BATCH_SIZE, IN_CH, OUT_CH = 1, 1, 1024"
   ]
  },
  {
   "cell_type": "code",
   "execution_count": 6,
   "metadata": {},
   "outputs": [],
   "source": [
    "mx = nn.MaxPool1d(kernel_size=2, stride=1, padding=0 ).cuda()"
   ]
  },
  {
   "cell_type": "code",
   "execution_count": 6,
   "metadata": {},
   "outputs": [],
   "source": [
    "# Pad with len(k)-1 zeros to ensure all non-zero outputs are computed.\n",
    "h = nn.Conv1d(IN_CH, OUT_CH, kernel_size=512, padding=1, stride=4 ,bias=True)"
   ]
  },
  {
   "cell_type": "code",
   "execution_count": 7,
   "metadata": {},
   "outputs": [],
   "source": [
    "# Pad with len(k)-1 zeros to ensure all non-zero outputs are computed.\n",
    "d = nn.Conv2d(IN_CH, OUT_CH, kernel_size=512, padding=511, stride=4 , bias=True)"
   ]
  },
  {
   "cell_type": "code",
   "execution_count": 9,
   "metadata": {},
   "outputs": [
    {
     "data": {
      "text/plain": [
       "torch.Size([1, 1, 1024])"
      ]
     },
     "execution_count": 9,
     "metadata": {},
     "output_type": "execute_result"
    }
   ],
   "source": [
    "x.reshape(BATCH_SIZE, IN_CH, -1).size()"
   ]
  },
  {
   "cell_type": "code",
   "execution_count": 8,
   "metadata": {},
   "outputs": [],
   "source": [
    "y =d(x.reshape(BATCH_SIZE, IN_CH, -1))\n",
    "print(y.size())"
   ]
  },
  {
   "cell_type": "code",
   "execution_count": null,
   "metadata": {},
   "outputs": [
    {
     "data": {
      "text/plain": [
       "torch.Size([1, 1024, 383])"
      ]
     },
     "execution_count": 54,
     "metadata": {},
     "output_type": "execute_result"
    }
   ],
   "source": [
    "mx(y).size()"
   ]
  },
  {
   "cell_type": "code",
   "execution_count": null,
   "metadata": {},
   "outputs": [],
   "source": []
  }
 ],
 "metadata": {
  "interpreter": {
   "hash": "2fed21d7f443e9082cfc6ba2fbe018596127843c8658e141820a67f60820f8cf"
  },
  "kernelspec": {
   "display_name": "Python 3.10.11 ('mpa')",
   "language": "python",
   "name": "python3"
  },
  "language_info": {
   "codemirror_mode": {
    "name": "ipython",
    "version": 3
   },
   "file_extension": ".py",
   "mimetype": "text/x-python",
   "name": "python",
   "nbconvert_exporter": "python",
   "pygments_lexer": "ipython3",
   "version": "3.10.11"
  },
  "orig_nbformat": 4
 },
 "nbformat": 4,
 "nbformat_minor": 2
}
