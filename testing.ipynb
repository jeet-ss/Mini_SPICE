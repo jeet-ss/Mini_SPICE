{
 "cells": [
  {
   "cell_type": "code",
   "execution_count": 17,
   "metadata": {},
   "outputs": [],
   "source": [
    "import torch\n",
    "import numpy as np\n",
    "from torch import nn\n",
    "from utils.model import Spice_model\n",
    "from torchinfo import summary\n",
    "import pandas as pd"
   ]
  },
  {
   "cell_type": "code",
   "execution_count": 16,
   "metadata": {},
   "outputs": [
    {
     "data": {
      "text/plain": [
       "array([[ 0,  1,  2,  1],\n",
       "       [ 3,  4,  5,  0],\n",
       "       [ 6,  7,  8,  0],\n",
       "       [ 9, 10, 11,  1],\n",
       "       [12, 13, 14,  0]])"
      ]
     },
     "execution_count": 16,
     "metadata": {},
     "output_type": "execute_result"
    }
   ],
   "source": [
    "a = np.arange(0,15,1).reshape(5,3)\n",
    "a = np.hstack((a, np.array([1,0,0,1,0]).reshape(-1,1)))\n",
    "a"
   ]
  },
  {
   "cell_type": "code",
   "execution_count": 62,
   "metadata": {},
   "outputs": [
    {
     "data": {
      "text/html": [
       "<div>\n",
       "<style scoped>\n",
       "    .dataframe tbody tr th:only-of-type {\n",
       "        vertical-align: middle;\n",
       "    }\n",
       "\n",
       "    .dataframe tbody tr th {\n",
       "        vertical-align: top;\n",
       "    }\n",
       "\n",
       "    .dataframe thead th {\n",
       "        text-align: right;\n",
       "    }\n",
       "</style>\n",
       "<table border=\"1\" class=\"dataframe\">\n",
       "  <thead>\n",
       "    <tr style=\"text-align: right;\">\n",
       "      <th></th>\n",
       "      <th>0</th>\n",
       "      <th>1</th>\n",
       "      <th>2</th>\n",
       "      <th>3</th>\n",
       "    </tr>\n",
       "  </thead>\n",
       "  <tbody>\n",
       "    <tr>\n",
       "      <th>0</th>\n",
       "      <td>0</td>\n",
       "      <td>1</td>\n",
       "      <td>2</td>\n",
       "      <td>1</td>\n",
       "    </tr>\n",
       "    <tr>\n",
       "      <th>1</th>\n",
       "      <td>3</td>\n",
       "      <td>4</td>\n",
       "      <td>5</td>\n",
       "      <td>0</td>\n",
       "    </tr>\n",
       "    <tr>\n",
       "      <th>2</th>\n",
       "      <td>6</td>\n",
       "      <td>7</td>\n",
       "      <td>8</td>\n",
       "      <td>0</td>\n",
       "    </tr>\n",
       "    <tr>\n",
       "      <th>3</th>\n",
       "      <td>9</td>\n",
       "      <td>10</td>\n",
       "      <td>11</td>\n",
       "      <td>1</td>\n",
       "    </tr>\n",
       "    <tr>\n",
       "      <th>4</th>\n",
       "      <td>12</td>\n",
       "      <td>13</td>\n",
       "      <td>14</td>\n",
       "      <td>0</td>\n",
       "    </tr>\n",
       "  </tbody>\n",
       "</table>\n",
       "</div>"
      ],
      "text/plain": [
       "    0   1   2  3\n",
       "0   0   1   2  1\n",
       "1   3   4   5  0\n",
       "2   6   7   8  0\n",
       "3   9  10  11  1\n",
       "4  12  13  14  0"
      ]
     },
     "execution_count": 62,
     "metadata": {},
     "output_type": "execute_result"
    }
   ],
   "source": [
    "df = pd.DataFrame(a)\n",
    "df"
   ]
  },
  {
   "cell_type": "code",
   "execution_count": 63,
   "metadata": {},
   "outputs": [
    {
     "data": {
      "text/html": [
       "<div>\n",
       "<style scoped>\n",
       "    .dataframe tbody tr th:only-of-type {\n",
       "        vertical-align: middle;\n",
       "    }\n",
       "\n",
       "    .dataframe tbody tr th {\n",
       "        vertical-align: top;\n",
       "    }\n",
       "\n",
       "    .dataframe thead th {\n",
       "        text-align: right;\n",
       "    }\n",
       "</style>\n",
       "<table border=\"1\" class=\"dataframe\">\n",
       "  <thead>\n",
       "    <tr style=\"text-align: right;\">\n",
       "      <th></th>\n",
       "      <th>0</th>\n",
       "      <th>1</th>\n",
       "      <th>2</th>\n",
       "      <th>3</th>\n",
       "    </tr>\n",
       "  </thead>\n",
       "  <tbody>\n",
       "    <tr>\n",
       "      <th>0</th>\n",
       "      <td>0</td>\n",
       "      <td>1</td>\n",
       "      <td>2</td>\n",
       "      <td>1</td>\n",
       "    </tr>\n",
       "    <tr>\n",
       "      <th>3</th>\n",
       "      <td>9</td>\n",
       "      <td>10</td>\n",
       "      <td>11</td>\n",
       "      <td>1</td>\n",
       "    </tr>\n",
       "  </tbody>\n",
       "</table>\n",
       "</div>"
      ],
      "text/plain": [
       "   0   1   2  3\n",
       "0  0   1   2  1\n",
       "3  9  10  11  1"
      ]
     },
     "execution_count": 63,
     "metadata": {},
     "output_type": "execute_result"
    }
   ],
   "source": [
    "# remove rows of cqt where label (last) column is zero\n",
    "df.drop(df.loc[df.iloc[:, -1]==0].index, inplace=True)\n",
    "df"
   ]
  },
  {
   "cell_type": "code",
   "execution_count": 3,
   "metadata": {},
   "outputs": [
    {
     "name": "stdout",
     "output_type": "stream",
     "text": [
      "in decoder True torch.Size([10, 512, 2]) torch.Size([10, 512, 2])\n",
      "befoce 2deconv True 6\n",
      "2nd deconv torch.Size([10, 256, 4]) torch.Size([10, 256, 4])\n",
      "in decoder True torch.Size([10, 256, 4]) torch.Size([10, 256, 4])\n",
      "no unpooling False True\n",
      "no unpooling False True\n",
      "no unpooling False True\n",
      "no unpooling False True\n"
     ]
    },
    {
     "data": {
      "text/plain": [
       "==========================================================================================\n",
       "Layer (type:depth-idx)                   Output Shape              Param #\n",
       "==========================================================================================\n",
       "Spice_model                              [10, 1]                   --\n",
       "├─Spice_Encoder: 1-1                     [10, 1]                   --\n",
       "│    └─Conv_block: 2-1                   [10, 64, 64]              --\n",
       "│    │    └─Conv1d: 3-1                  [10, 64, 128]             256\n",
       "│    │    └─BatchNorm1d: 3-2             [10, 64, 128]             128\n",
       "│    │    └─ReLU: 3-3                    [10, 64, 128]             --\n",
       "│    │    └─MaxPool1d: 3-4               [10, 64, 64]              --\n",
       "│    └─Conv_block: 2-2                   [10, 128, 32]             --\n",
       "│    │    └─Conv1d: 3-5                  [10, 128, 64]             24,704\n",
       "│    │    └─BatchNorm1d: 3-6             [10, 128, 64]             256\n",
       "│    │    └─ReLU: 3-7                    [10, 128, 64]             --\n",
       "│    │    └─MaxPool1d: 3-8               [10, 128, 32]             --\n",
       "│    └─Conv_block: 2-3                   [10, 256, 16]             --\n",
       "│    │    └─Conv1d: 3-9                  [10, 256, 32]             98,560\n",
       "│    │    └─BatchNorm1d: 3-10            [10, 256, 32]             512\n",
       "│    │    └─ReLU: 3-11                   [10, 256, 32]             --\n",
       "│    │    └─MaxPool1d: 3-12              [10, 256, 16]             --\n",
       "│    └─Conv_block: 2-4                   [10, 512, 8]              --\n",
       "│    │    └─Conv1d: 3-13                 [10, 512, 16]             393,728\n",
       "│    │    └─BatchNorm1d: 3-14            [10, 512, 16]             1,024\n",
       "│    │    └─ReLU: 3-15                   [10, 512, 16]             --\n",
       "│    │    └─MaxPool1d: 3-16              [10, 512, 8]              --\n",
       "│    └─Conv_block: 2-5                   [10, 512, 4]              --\n",
       "│    │    └─Conv1d: 3-17                 [10, 512, 8]              786,944\n",
       "│    │    └─BatchNorm1d: 3-18            [10, 512, 8]              1,024\n",
       "│    │    └─ReLU: 3-19                   [10, 512, 8]              --\n",
       "│    │    └─MaxPool1d: 3-20              [10, 512, 4]              --\n",
       "│    └─Conv_block: 2-6                   [10, 512, 2]              --\n",
       "│    │    └─Conv1d: 3-21                 [10, 512, 4]              786,944\n",
       "│    │    └─BatchNorm1d: 3-22            [10, 512, 4]              1,024\n",
       "│    │    └─ReLU: 3-23                   [10, 512, 4]              --\n",
       "│    │    └─MaxPool1d: 3-24              [10, 512, 2]              --\n",
       "│    └─Linear: 2-7                       [10, 48]                  49,200\n",
       "│    └─Linear: 2-8                       [10, 1]                   49\n",
       "│    └─Linear: 2-9                       [10, 1]                   1,025\n",
       "├─Spice_Decoder: 1-2                     [10, 32, 6]               --\n",
       "│    └─Linear: 2-10                      [10, 1, 48]               96\n",
       "│    └─Linear: 2-11                      [10, 1, 1024]             50,176\n",
       "│    └─Deconv_block: 2-12                [10, 256, 4]              512\n",
       "│    │    └─MaxUnpool1d: 3-25            [10, 512, 4]              --\n",
       "│    │    └─ConvTranspose1d: 3-26        [10, 256, 4]              393,472\n",
       "│    │    └─ReLU: 3-27                   [10, 256, 4]              --\n",
       "│    └─Deconv_block: 2-13                [10, 256, 6]              512\n",
       "│    │    └─MaxUnpool1d: 3-28            [10, 256, 6]              --\n",
       "│    │    └─ConvTranspose1d: 3-29        [10, 256, 6]              196,864\n",
       "│    │    └─ReLU: 3-30                   [10, 256, 6]              --\n",
       "│    └─Deconv_block: 2-14                [10, 256, 6]              512\n",
       "│    │    └─ConvTranspose1d: 3-31        [10, 256, 6]              196,864\n",
       "│    │    └─ReLU: 3-32                   [10, 256, 6]              --\n",
       "│    └─Deconv_block: 2-15                [10, 128, 6]              256\n",
       "│    │    └─ConvTranspose1d: 3-33        [10, 128, 6]              98,432\n",
       "│    │    └─ReLU: 3-34                   [10, 128, 6]              --\n",
       "│    └─Deconv_block: 2-16                [10, 64, 6]               128\n",
       "│    │    └─ConvTranspose1d: 3-35        [10, 64, 6]               24,640\n",
       "│    │    └─ReLU: 3-36                   [10, 64, 6]               --\n",
       "│    └─Deconv_block: 2-17                [10, 32, 6]               64\n",
       "│    │    └─ConvTranspose1d: 3-37        [10, 32, 6]               6,176\n",
       "│    │    └─ReLU: 3-38                   [10, 32, 6]               --\n",
       "==========================================================================================\n",
       "Total params: 3,114,082\n",
       "Trainable params: 3,114,082\n",
       "Non-trainable params: 0\n",
       "Total mult-adds (M): 253.27\n",
       "==========================================================================================\n",
       "Input size (MB): 0.01\n",
       "Forward/backward pass size (MB): 6.75\n",
       "Params size (MB): 12.45\n",
       "Estimated Total Size (MB): 19.20\n",
       "=========================================================================================="
      ]
     },
     "execution_count": 3,
     "metadata": {},
     "output_type": "execute_result"
    }
   ],
   "source": [
    "s = Spice_model()\n",
    "summary(s, input_size=[10, 128])"
   ]
  }
 ],
 "metadata": {
  "interpreter": {
   "hash": "2fed21d7f443e9082cfc6ba2fbe018596127843c8658e141820a67f60820f8cf"
  },
  "kernelspec": {
   "display_name": "Python 3.10.11 ('mpa')",
   "language": "python",
   "name": "python3"
  },
  "language_info": {
   "codemirror_mode": {
    "name": "ipython",
    "version": 3
   },
   "file_extension": ".py",
   "mimetype": "text/x-python",
   "name": "python",
   "nbconvert_exporter": "python",
   "pygments_lexer": "ipython3",
   "version": "3.10.11"
  },
  "orig_nbformat": 4
 },
 "nbformat": 4,
 "nbformat_minor": 2
}
