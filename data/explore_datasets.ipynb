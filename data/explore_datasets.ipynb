{
 "cells": [
  {
   "cell_type": "code",
   "execution_count": 1,
   "id": "24d8fbd0-08b9-4f26-af58-7ea000376ef9",
   "metadata": {},
   "outputs": [],
   "source": [
    "%load_ext autoreload\n",
    "%autoreload 2"
   ]
  },
  {
   "cell_type": "code",
   "execution_count": 9,
   "id": "8b1e08ca-ed47-417f-9698-c1f64443d954",
   "metadata": {},
   "outputs": [],
   "source": [
    "import numpy as np\n",
    "import librosa\n",
    "\n",
    "from dataloader import MedleyDBLoader, MDBMelodySynthLoader, MIR1KLoader\n",
    "\n",
    "import IPython.display as ipd\n",
    "import matplotlib.pyplot as plt"
   ]
  },
  {
   "cell_type": "code",
   "execution_count": null,
   "id": "b6ef8bb6-60ee-41fa-bf0a-ee02d522ae32",
   "metadata": {},
   "outputs": [],
   "source": [
    "def plot_f0_trajectory(Y, t, f, f0, t_f0, figsize=(8.5, 3.4), xlim=(0, 11.5), ylim=(100, 2000), clim=(-60, 20), title=None):\n",
    "    \"\"\"\n",
    "    Plot a calculated f0 trajectory on the corresponding spectrogram\n",
    "    \n",
    "    Parameters\n",
    "    ----------\n",
    "    Y : np.ndarray\n",
    "        spectrogram\n",
    "    t : np.ndarray\n",
    "        time axis of the spectrogram\n",
    "    f : np.ndarray\n",
    "        log-frequency axis of the spectrogram in cents\n",
    "    f0 : np.ndarray\n",
    "        f0 trajectory in cents\n",
    "    t_f0 : np.ndarray\n",
    "        time points of the f0 trajectory frames\n",
    "    figsize : tuple\n",
    "        figure size\n",
    "    xlim : tuple\n",
    "        x-limits\n",
    "    ylim : tuple\n",
    "        y-limits\n",
    "    \"\"\"\n",
    "    plt.figure(figsize=figsize)\n",
    "    \n",
    "    if title is not None:\n",
    "        plt.title(title)\n",
    "\n",
    "    plt.imshow(np.clip(Y, clim[0], clim[1]), cmap='gray_r', aspect='auto', origin='lower', extent=[t[0], t[-1], f[0], f[-1]])\n",
    "    plt.plot(t_f0, f0, linestyle='', marker='.', markersize=5, color=[192/256, 0, 0])\n",
    "\n",
    "    plt.xlim(xlim)\n",
    "    plt.ylim(ylim)\n",
    "\n",
    "    plt.gca().tick_params(axis='both', which='major', labelsize=10)\n",
    "    plt.gca().tick_params(axis='both', which='minor', labelsize=10)\n",
    "    \n",
    "    plt.xlabel(\"Time (s)\", fontsize=12)\n",
    "    plt.ylabel(\"Frequency (Hz)\", fontsize=12)\n",
    "    \n",
    "    cbar = plt.colorbar()\n",
    "    cbar.ax.get_yaxis().labelpad = 15\n",
    "    cbar.ax.set_ylabel('Log-Magnitude', rotation=270)\n",
    "\n",
    "    plt.tight_layout()\n",
    "    plt.show()"
   ]
  },
  {
   "cell_type": "code",
   "execution_count": 10,
   "id": "8d4cc872-7849-42b2-a03e-278fdcd62113",
   "metadata": {},
   "outputs": [
    {
     "name": "stdout",
     "output_type": "stream",
     "text": [
      "The MedleyDB subset contains 65 elements.\n",
      "The MDB-melody-synth subset shares the same IDs with our MedleyDB subset.\n",
      "The MIR-1K subset contains 1000 elements.\n"
     ]
    }
   ],
   "source": [
    "# set parameters\n",
    "fs = 44100. # sampling rate\n",
    "N = 2048 # window size for STFT\n",
    "H = 1024 # hop size for STFT\n",
    "\n",
    "medleyDB = MedleyDBLoader(fs)\n",
    "mdbSynth = MDBMelodySynthLoader(fs)\n",
    "mir1k = MIR1KLoader(fs)\n",
    "\n",
    "ids_mdb = medleyDB.get_ids()\n",
    "ids_mdb2 = mdbSynth.get_ids()\n",
    "\n",
    "print(\"The MedleyDB subset contains %i elements.\" % (len(ids_mdb)))\n",
    "if ids_mdb.sort() == ids_mdb2.sort():\n",
    "    print(\"The MDB-melody-synth subset shares the same IDs with our MedleyDB subset.\")\n",
    "    \n",
    "print(\"The MIR-1K subset contains %i elements.\" % (mir1k.get_num_elements()))"
   ]
  },
  {
   "cell_type": "code",
   "execution_count": null,
   "id": "e904efdc-78e9-4616-ba09-5aa9251784cd",
   "metadata": {},
   "outputs": [],
   "source": [
    "print(ids_mdb)"
   ]
  },
  {
   "cell_type": "code",
   "execution_count": null,
   "id": "85996229-f79a-4e8f-92d9-e690c274c3e1",
   "metadata": {},
   "outputs": [],
   "source": [
    "# load an element from MedleyDB and MDB-melody-synth and plot excerpts to compare\n",
    "my_id = 'AlexanderRoss_GoodbyeBolero_STEM_06'\n",
    "start = 45.8 # start time of excerpts in seconds\n",
    "end = 57.7 # end time of excerpt in seconds\n",
    "\n",
    "x, f0 = medleyDB.load_data(my_id)\n",
    "x_synth, f0_synth = mdbSynth.load_data(my_id)\n",
    "\n",
    "plt.plot(f0[0,:], f0[1,:])\n",
    "plt.plot(f0_synth[0,:], f0_synth[1,:])\n",
    "plt.xlim(20, 30)\n",
    "plt.show()\n",
    "\n",
    "plt.plot(f0[0,:], f0[2,:])\n",
    "plt.plot(f0_synth[0,:], f0_synth[2,:])\n",
    "plt.xlim(20, 30)\n",
    "plt.show()\n",
    "\n",
    "X = librosa.stft(x[0], n_fft=N, hop_length=H, win_length=N, window='hann', pad_mode='constant', center=True)\n",
    "Y = 20*np.log10(np.abs(X + 1e-8))\n",
    "\n",
    "X_synth = librosa.stft(x_synth[0], n_fft=N, hop_length=H, win_length=N, window='hann', pad_mode='constant', center=True)\n",
    "Y_synth = 20*np.log10(np.abs(X_synth + 1e-8))\n",
    "\n",
    "t_stft = librosa.frames_to_time(np.arange(X.shape[1]), sr=fs, hop_length=H)\n",
    "f_stft = librosa.fft_frequencies(sr=fs, n_fft=N)\n",
    "\n",
    "is_f0_active = np.where(f0[1,:] == 1)\n",
    "plot_f0_trajectory(Y, t_stft, f_stft, f0[2,is_f0_active], f0[0,is_f0_active], xlim=(start, end), ylim=(50, 2000), clim=(-15, 30), title=my_id)\n",
    "\n",
    "is_f0_active = np.where(f0_synth[1,:] == 1)\n",
    "plot_f0_trajectory(Y_synth, t_stft, f_stft, f0_synth[2,is_f0_active], f0_synth[0,is_f0_active], xlim=(start, end), ylim=(50, 2000), clim=(-15, 30), title=my_id+\" resyn\")\n",
    "\n",
    "print(\"MedleyDB\")\n",
    "ipd.display(ipd.Audio(x[:,int(start*fs):int(end*fs)], rate=fs))\n",
    "print(\"MDB-melody-synth\")\n",
    "ipd.display(ipd.Audio(x_synth[:,int(start*fs):int(end*fs)], rate=fs))"
   ]
  },
  {
   "cell_type": "code",
   "execution_count": null,
   "id": "9816ade9-7960-4b59-9325-3c033bc0a151",
   "metadata": {},
   "outputs": [],
   "source": [
    "# load an element from MIR-1K and plot excerpt\n",
    "my_id = 'amy_8_08'\n",
    "\n",
    "x, f0 = mir1k.load_data(my_id)\n",
    "X = librosa.stft(x[0], n_fft=N, hop_length=H, win_length=N, window='hann', pad_mode='constant', center=True)\n",
    "Y = 20*np.log10(np.abs(X + 1e-8))\n",
    "\n",
    "t_stft = librosa.frames_to_time(np.arange(X.shape[1]), sr=fs, hop_length=H)\n",
    "f_stft = librosa.fft_frequencies(sr=fs, n_fft=N)\n",
    "\n",
    "is_f0_active = np.where(f0[1,:] == 1)\n",
    "plot_f0_trajectory(Y, t_stft, f_stft, f0[2,is_f0_active], f0[0,is_f0_active], xlim=(0, x.shape[1]/fs), ylim=(50, 2000), clim=(-15, 30), title=my_id)\n",
    "\n",
    "ipd.display(ipd.Audio(x, rate=fs))"
   ]
  }
 ],
 "metadata": {
  "interpreter": {
   "hash": "2fed21d7f443e9082cfc6ba2fbe018596127843c8658e141820a67f60820f8cf"
  },
  "kernelspec": {
   "display_name": "Python 3.10.11 ('mpa')",
   "language": "python",
   "name": "python3"
  },
  "language_info": {
   "codemirror_mode": {
    "name": "ipython",
    "version": 3
   },
   "file_extension": ".py",
   "mimetype": "text/x-python",
   "name": "python",
   "nbconvert_exporter": "python",
   "pygments_lexer": "ipython3",
   "version": "3.10.11"
  }
 },
 "nbformat": 4,
 "nbformat_minor": 5
}
