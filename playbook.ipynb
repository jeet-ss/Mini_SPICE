{
 "cells": [
  {
   "cell_type": "markdown",
   "id": "fa5ab8b9-c7cd-4a10-8455-a451fddb6f2f",
   "metadata": {
    "tags": []
   },
   "source": [
    "## RPA"
   ]
  },
  {
   "cell_type": "code",
   "execution_count": 13,
   "id": "c88c4a1e-5294-433e-9bec-220611ac1c48",
   "metadata": {
    "tags": []
   },
   "outputs": [],
   "source": [
    "import pandas as pd\n",
    "from utils.model import Spice_Encoder\n",
    "import torch\n",
    "from data_files.dataset import CQT_Dataset\n",
    "from torch.utils.data import DataLoader\n",
    "from data_files.dataloader import MedleyDBLoader, MDBMelodySynthLoader, MIR1KLoader"
   ]
  },
  {
   "cell_type": "code",
   "execution_count": 14,
   "id": "18b92ad0-0f6e-469a-ab06-1f924bac5e36",
   "metadata": {
    "tags": []
   },
   "outputs": [],
   "source": [
    "def output2hz(pitch_output):\n",
    "  # Constants taken from https://tfhub.dev/google/spice/2\n",
    "  PT_OFFSET = 25.58\n",
    "  PT_SLOPE = 63.07\n",
    "  FMIN = 10.0    #why is it 10, not 110?\n",
    "  BINS_PER_OCTAVE = 12.0  \n",
    "  cqt_bin = pitch_output * PT_SLOPE + PT_OFFSET;\n",
    "  return FMIN * 2.0 ** (1.0 * cqt_bin / BINS_PER_OCTAVE)"
   ]
  },
  {
   "cell_type": "code",
   "execution_count": 43,
   "id": "d0333cbd-7709-4c5a-bbda-233903af34a7",
   "metadata": {
    "tags": []
   },
   "outputs": [
    {
     "data": {
      "text/plain": [
       "<All keys matched successfully>"
      ]
     },
     "execution_count": 43,
     "metadata": {},
     "output_type": "execute_result"
    }
   ],
   "source": [
    "import torch\n",
    "from utils.model import Spice_model\n",
    "\n",
    "model = Spice_model([1, 64, 128, 256, 512, 512, 512], [512, 512, 512, 256, 128, 64, 1], [True, True, True, True, True, True])\n",
    "checkpoint = torch.load('./rev_1k_checkpoints/checkpoint_mir_643.ckp', 'cuda' if torch.cuda.is_available() else 'cpu')\n",
    "model.load_state_dict(checkpoint['state_dict'])"
   ]
  },
  {
   "cell_type": "code",
   "execution_count": 2,
   "id": "5c162e68-7389-45c6-8f3b-bda46c809ff4",
   "metadata": {
    "tags": []
   },
   "outputs": [],
   "source": [
    "from data_files.dataloader import MedleyDBLoader, MDBMelodySynthLoader, MIR1KLoader"
   ]
  },
  {
   "cell_type": "code",
   "execution_count": 52,
   "id": "c84f8837-aff2-4dc7-b84d-1bdb3b08c066",
   "metadata": {
    "tags": []
   },
   "outputs": [],
   "source": [
    "pitch_h,conf_h,x_hat = model(torch.randn((10,128)))"
   ]
  },
  {
   "cell_type": "code",
   "execution_count": 15,
   "id": "3aafd3f2-9c83-499a-ab31-6e152fb7c6da",
   "metadata": {
    "tags": []
   },
   "outputs": [
    {
     "name": "stdout",
     "output_type": "stream",
     "text": [
      "(3, 355) (1, 114177)\n"
     ]
    }
   ],
   "source": [
    "fs = 16000\n",
    "mir1k = MIR1KLoader(fs)\n",
    "my_id = 'abjones_1_03'\n",
    "# datasets/MIR-1K-Stem/Wavfile/abjones_1_03.wav\n",
    "x_audio, f0 = mir1k.load_data(my_id)\n",
    "print(f0.shape, x_audio.shape)"
   ]
  },
  {
   "cell_type": "code",
   "execution_count": 16,
   "id": "d14e7f4f-6015-4fb1-8922-95255ba745b3",
   "metadata": {
    "tags": []
   },
   "outputs": [],
   "source": [
    "x_audio = x_audio.squeeze(axis=0)"
   ]
  },
  {
   "cell_type": "code",
   "execution_count": 17,
   "id": "7bac2f89-1243-49b6-923f-19037c1343ff",
   "metadata": {
    "tags": []
   },
   "outputs": [
    {
     "data": {
      "text/plain": [
       "array([0., 0., 0., 0., 0., 0., 0., 0., 0., 0., 0., 1., 1., 1., 1., 1., 1.,\n",
       "       1., 1., 1., 1., 1., 1., 1., 1., 1., 1., 1., 1., 1., 1., 1., 1., 1.,\n",
       "       1., 1., 1., 1., 1., 1., 1., 1., 1., 1., 1., 1., 1., 1., 1., 1., 1.,\n",
       "       1., 1., 1., 1., 1., 1., 1., 1., 1., 0., 1., 1., 1., 1., 1., 1., 1.,\n",
       "       1., 1., 1., 1., 1., 1., 1., 1., 1., 1., 1., 1., 1., 1., 1., 1., 1.,\n",
       "       1., 1., 1., 1., 1., 1., 1., 1., 0., 1., 1., 1., 1., 1., 1., 1., 1.,\n",
       "       1., 1., 1., 1., 1., 1., 1., 1., 1., 1., 1., 1., 1., 1., 1., 1., 1.,\n",
       "       1., 1., 1., 1., 1., 1., 1., 1., 1., 1., 1., 1., 1., 1., 1., 1., 1.,\n",
       "       1., 1., 1., 1., 0., 0., 0., 0., 0., 0., 0., 0., 0., 0., 0., 0., 0.,\n",
       "       0., 0., 0., 0., 0., 0., 0., 0., 0., 0., 0., 0., 0., 0., 0., 0., 0.,\n",
       "       0., 0., 0., 0., 0., 1., 1., 1., 1., 1., 1., 1., 1., 1., 1., 1., 1.,\n",
       "       1., 1., 1., 1., 1., 1., 1., 1., 1., 1., 1., 1., 1., 1., 1., 1., 1.,\n",
       "       1., 1., 1., 1., 1., 1., 1., 1., 1., 1., 1., 1., 1., 1., 1., 1., 1.,\n",
       "       1., 1., 1., 1., 1., 1., 1., 1., 1., 1., 1., 1., 1., 1., 1., 1., 1.,\n",
       "       1., 1., 1., 1., 1., 0., 0., 0., 0., 0., 0., 0., 0., 0., 0., 0., 1.,\n",
       "       1., 1., 1., 1., 1., 1., 1., 1., 1., 1., 1., 1., 1., 1., 1., 1., 1.,\n",
       "       1., 1., 1., 1., 1., 1., 1., 1., 1., 1., 1., 1., 1., 1., 1., 1., 0.,\n",
       "       1., 1., 1., 1., 1., 1., 1., 1., 1., 1., 1., 0., 1., 1., 1., 1., 1.,\n",
       "       1., 1., 1., 1., 1., 1., 1., 1., 1., 1., 1., 1., 1., 1., 1., 1., 1.,\n",
       "       1., 1., 1., 1., 1., 1., 1., 1., 1., 0., 0., 0., 0., 0., 0., 0., 0.,\n",
       "       0., 0., 0., 0., 0., 0., 0., 0., 0., 0., 0., 0., 0., 0., 0.])"
      ]
     },
     "execution_count": 17,
     "metadata": {},
     "output_type": "execute_result"
    },
    {
     "data": {
      "image/png": "[encoded data removed]",
      "text/plain": [
       "<Figure size 640x480 with 1 Axes>"
      ]
     },
     "metadata": {},
     "output_type": "display_data"
    }
   ],
   "source": [
    "audio_samples = x_audio\n",
    "from matplotlib import pyplot as plt\n",
    "_ = plt.plot(audio_samples)\n",
    "\n",
    "f0[1]"
   ]
  },
  {
   "cell_type": "code",
   "execution_count": 18,
   "id": "d94604b3-5864-489d-b09d-6209aa860ac3",
   "metadata": {
    "tags": []
   },
   "outputs": [],
   "source": [
    "def Cqt_song(songs, f0_list):\n",
    "    fs = 16000\n",
    "    hop_len = 512\n",
    "    # Convert to CQT array and concat\n",
    "    Cqtt = np.zeros((1, 190))\n",
    "    voicing_interp = np.zeros(1)\n",
    "    F0_interp = np.zeros(1)\n",
    "    for s, f in zip(songs, f0_list):\n",
    "        C = np.abs(librosa.cqt(s, sr=fs, hop_length=hop_len, \n",
    "                    #window=librosa.filters.get_window('hann', Nx=1024, fftbins=False), \n",
    "                    fmin= librosa.note_to_hz('C1'),\n",
    "                    n_bins=190, bins_per_octave=24))\n",
    "        #print(\"CQT shape: \", C.shape)\n",
    "        Cqtt = np.vstack((Cqtt, C.T))\n",
    "        # interpolate f0 for labels \n",
    "        interpolator = scipy.interpolate.interp1d(x=f[0], y=f[2], axis=0, fill_value = 'extrapolate')\n",
    "        interp_time = np.arange(0, C.shape[1], 1)*hop_len/fs\n",
    "        f0_new = interpolator(interp_time)\n",
    "        F0_interp = np.concatenate((F0_interp, f0_new))\n",
    "        \n",
    "        # interpolate voicing for labels \n",
    "        interpolator_voice = scipy.interpolate.interp1d(x=f[0], y=f[1], axis=0, fill_value = 'extrapolate')\n",
    "        uv_new = interpolator_voice(interp_time)\n",
    "        voicing_interp = np.concatenate((voicing_interp, uv_new))\n",
    "        #print(\"F0 interpolated shape: \", f0_new)data_pd = pd.DataFrame(data=data_np) \n",
    "    #print(\"CQT & F0 Shape: \", Cqtt.shape, F0_interp.shape)\n",
    "    return interp_time, Cqtt, F0_interp, voicing_interp\n",
    "\n",
    "def Cqt_loader_frame(cqt_full):\n",
    "    # return for each Cqt frame\n",
    "    k_min, k_max, F_bins = 0, 8, 128\n",
    "    k_1, k_2 = np.random.randint(k_min, k_max), np.random.randint(k_min, k_max)\n",
    "    # return abs differrence, and two cqt slices of 128 length\n",
    "    return np.abs(k_1 - k_2), cqt_full[k_1: k_1 + F_bins], cqt_full[k_2: k_2 + F_bins]\n",
    "\n",
    "def Cqt_loader(cqt):\n",
    "    s1_list = np.zeros(128)\n",
    "    s2_list = np.zeros(128)\n",
    "    diff_list = np.zeros(1)\n",
    "    for i in range(len(cqt)):\n",
    "        diff, s1, s2 = Cqt_loader_frame(cqt[i, :].squeeze())\n",
    "        s1_list = np.vstack((s1_list, s1))\n",
    "        s2_list = np.vstack((s2_list, s2))\n",
    "        diff_list = np.vstack((diff_list, diff))\n",
    "    \n",
    "    return s1_list[1:], s2_list[1:], diff_list[1:]"
   ]
  },
  {
   "cell_type": "code",
   "execution_count": 29,
   "id": "5fa46c05-4723-44e7-95e7-325d561a97eb",
   "metadata": {
    "tags": []
   },
   "outputs": [
    {
     "name": "stdout",
     "output_type": "stream",
     "text": [
      "Cqt Shape: (225, 190), F0 Interpolated Shape: (225,)\n",
      "Slice shape: (225, 128), Difference shape:(225, 1)\n",
      "(224,) (225,)\n"
     ]
    }
   ],
   "source": [
    "import numpy as np\n",
    "import librosa\n",
    "import scipy\n",
    "t,x,y, vu  = Cqt_song([audio_samples], [f0])\n",
    "print(f'Cqt Shape: {x.shape}, F0 Interpolated Shape: {y.shape}')\n",
    "s1, s2, diff = Cqt_loader(x)\n",
    "print(f'Slice shape: {s1.shape}, Difference shape:{diff.shape}')\n",
    "print(t.shape,y.shape)\n",
    "# def step_func(n, threshold=0.5):\n",
    "#     if n < threshold:\n",
    "#         return 0.\n",
    "#     if n >= threshold:\n",
    "#         return 1.\n",
    "# applyall = np.vectorize(step_func)\n",
    "# res = applyall(vu)\n",
    "\n",
    "# print(\"{}\\n{}\".format(vu,res))  # This will output 1.0"
   ]
  },
  {
   "cell_type": "code",
   "execution_count": 60,
   "id": "3ae95000-d411-4046-9528-c2585b20c040",
   "metadata": {
    "tags": []
   },
   "outputs": [
    {
     "data": {
      "text/plain": [
       "0.0"
      ]
     },
     "execution_count": 60,
     "metadata": {},
     "output_type": "execute_result"
    }
   ],
   "source": [
    "y_hat = np.apply_along_axis(output2hz, 0, pitch_h.detach().numpy())\n",
    "y_hat_cent = np.apply_along_axis(mir_eval.melody.hz2cents, 0, y_hat)\n",
    "y_hat_voice = np.random.randint(2, size=y_hat.shape)\n",
    "y = np.random.uniform(low=40, high=65, size=(10,1)) #extrapolate back to time\n",
    "y_cent = np.apply_along_axis(mir_eval.melody.hz2cents, 0, y)\n",
    "y_voice = np.random.randint(2, size=y.shape)\n",
    "raw_pitch_accuracy = mir_eval.melody.raw_pitch_accuracy(y_voice, y_cent, y_hat_voice, y_hat_cent)\n",
    "raw_pitch_accuracy"
   ]
  },
  {
   "cell_type": "code",
   "execution_count": 28,
   "id": "8e8717f5-d83d-4b01-a7d8-81980bfd3833",
   "metadata": {
    "tags": []
   },
   "outputs": [
    {
     "data": {
      "text/plain": [
       "array([111, 222, 222])"
      ]
     },
     "execution_count": 28,
     "metadata": {},
     "output_type": "execute_result"
    }
   ],
   "source": [
    "aa = np.array([111, 222,222,222,333])\n",
    "bb = np.array([1,0,1,1,0])\n",
    "aa[np.nonzero(aa*bb)]"
   ]
  },
  {
   "cell_type": "code",
   "execution_count": 54,
   "id": "bae71185-9ec2-44bb-8998-f34480667bfb",
   "metadata": {
    "tags": []
   },
   "outputs": [],
   "source": [
    "import mir_eval \n",
    "# raw_pitch_accuracy = mir_eval.melody.raw_pitch_accuracy(y, y_hat)\n",
    "\n",
    "def raw_pitch_accuracy(ground_truth, pred):\n",
    "    pitch_difference = np.abs(ground_truth - pred)\n",
    "    half_semitone_threshold = ground_truth*2 ** (1/24) - ground_truth\n",
    "\n",
    "    error_arr = np.subtract(pitch_difference, half_semitone_threshold)\n",
    "    count_error = (error_arr > 0.0).sum()\n",
    "    print(error_arr)\n",
    "    percentage = (count_error / len(ground_truth)) * 100\n",
    "    return percentage\n"
   ]
  },
  {
   "cell_type": "code",
   "execution_count": 55,
   "id": "e157e21d-266f-4461-8849-cd0f4a206efe",
   "metadata": {
    "tags": []
   },
   "outputs": [
    {
     "name": "stdout",
     "output_type": "stream",
     "text": [
      "[[15.1846428 ]\n",
      " [16.97339592]\n",
      " [26.01562903]\n",
      " [29.50201205]\n",
      " [27.44755152]\n",
      " [13.49949293]\n",
      " [25.61517218]\n",
      " [11.4925144 ]\n",
      " [24.66010954]\n",
      " [27.61804359]]\n"
     ]
    },
    {
     "data": {
      "text/plain": [
       "100.0"
      ]
     },
     "execution_count": 55,
     "metadata": {},
     "output_type": "execute_result"
    }
   ],
   "source": [
    "raw_pitch_accuracy(y,y_hat)"
   ]
  },
  {
   "cell_type": "markdown",
   "id": "ae3dc8e2-b722-491c-9098-889661c0907b",
   "metadata": {},
   "source": [
    "## Calibration"
   ]
  },
  {
   "cell_type": "code",
   "execution_count": 5,
   "id": "64b1770b-31f2-4bc5-9f0b-85d2451d0f42",
   "metadata": {
    "tags": []
   },
   "outputs": [],
   "source": [
    "import math\n",
    "import random\n",
    "import numpy as np\n",
    "\n",
    "def pick_semitone_freq(low, high):\n",
    "    semitone_ratio = 2 ** (1/12)\n",
    "    semitone_freq_list = []\n",
    "    \n",
    "    current_freq = low\n",
    "    while current_freq <= high:\n",
    "        semitone_freq_list.append(current_freq)\n",
    "        current_freq *= semitone_ratio\n",
    "    \n",
    "    return random.choice(semitone_freq_list)\n",
    "\n",
    "# pick_semitone_freq(110, 440)\n",
    "\n",
    "def generate_harmonic_wave(fundamental_freq, amplitude, sampling_rate=16000, N=11, H=512):\n",
    "    # amplitude = ? N - normal u-uniform\n",
    "    t = np.linspace(0, (N*H) / sampling_rate, (N*H), endpoint=False)\n",
    "    harmonic_wave = np.zeros(N*H)\n",
    "\n",
    "    for i in range(1, 4):  \n",
    "        frequency = fundamental_freq * i\n",
    "        random_phase = random.uniform(0, 2 * math.pi)\n",
    "        harmonic_wave += amplitude / i * np.sin(2 * np.pi * frequency * t+random_phase)\n",
    "\n",
    "    return harmonic_wave"
   ]
  },
  {
   "cell_type": "code",
   "execution_count": 6,
   "id": "5476cfcb-e80e-4827-a6a2-a9eba9bfad78",
   "metadata": {},
   "outputs": [],
   "source": [
    "class Generator():\n",
    "    def __init__(self,M,low=110,high=440):\n",
    "        self.M = M\n",
    "        self.low = low\n",
    "        self.high = high\n",
    "        \n",
    "    def generate(self):\n",
    "        if self.M%2==0:\n",
    "            middle = self.M/2 \n",
    "        else:\n",
    "            middle = (self.M+1)/2\n",
    "        wave = np.array([])\n",
    "        for i in range(self.M+1):\n",
    "            f0 = pick_semitone_freq(self.low,self.high)\n",
    "            if i==middle:\n",
    "                label = f0\n",
    "            \n",
    "            wslice = generate_harmonic_wave(f0, 1.2)\n",
    "            wave = np.hstack((wave, wslice))\n",
    "        return wave, label\n",
    "    \n",
    "    \n",
    "        "
   ]
  },
  {
   "cell_type": "code",
   "execution_count": 8,
   "id": "72134023-c876-4090-8ba5-6caee908381a",
   "metadata": {
    "tags": []
   },
   "outputs": [
    {
     "data": {
      "text/plain": [
       "28160"
      ]
     },
     "execution_count": 8,
     "metadata": {},
     "output_type": "execute_result"
    }
   ],
   "source": [
    "5*11*512"
   ]
  },
  {
   "cell_type": "code",
   "execution_count": 7,
   "id": "a88d995b-9719-42f1-8409-e593d9030345",
   "metadata": {
    "tags": []
   },
   "outputs": [
    {
     "data": {
      "text/plain": [
       "(0,)"
      ]
     },
     "execution_count": 7,
     "metadata": {},
     "output_type": "execute_result"
    }
   ],
   "source": [
    "import pandas as pd\n",
    "genrator = Generator(5)\n",
    "# my_data_wave = []\n",
    "# my_data_label = []\n",
    "wave, f0 = genrator.generate() #5*11*512\n",
    "# for i in range(100):\n",
    "#     wave, f0 = genrator.generate()\n",
    "#     my_data_wave.append(wave)\n",
    "#     my_data_label.append(f0)\n",
    "\n",
    "# data pd.DataFrame.from_dict({'wave':my_data_wave,'f0':my_data_label})\n",
    "wave.shape"
   ]
  },
  {
   "cell_type": "markdown",
   "id": "28680f44-a1c7-47f5-a401-4cc6bd1180cc",
   "metadata": {
    "tags": []
   },
   "source": [
    "## Generate Data fot Evaluation"
   ]
  },
  {
   "cell_type": "code",
   "execution_count": 7,
   "id": "d53cb699-e93f-4238-8375-53bed744f8da",
   "metadata": {
    "tags": []
   },
   "outputs": [
    {
     "name": "stdout",
     "output_type": "stream",
     "text": [
      "Traceback (most recent call last):\n",
      "  File \"/home/hpc/iwal/iwal132h/Mini_SPICE/generate_data.py\", line 2, in <module>\n",
      "    import librosa\n",
      "ModuleNotFoundError: No module named 'librosa'\n"
     ]
    }
   ],
   "source": [
    "import os\n",
    "os.chdir('/home/vault/iwal/iwal132h/data')\n",
    "os.getcwd()\n",
    "!python3 ~/Mini_SPICE/generate_data.py 16000"
   ]
  },
  {
   "cell_type": "markdown",
   "id": "c36bd496-e806-4d98-96f6-c29593259110",
   "metadata": {
    "tags": []
   },
   "source": [
    "## torchhelp"
   ]
  },
  {
   "cell_type": "code",
   "execution_count": 49,
   "id": "17071423-7647-446a-8052-41436e3c3a56",
   "metadata": {
    "tags": []
   },
   "outputs": [],
   "source": [
    "# pytorch mlp for binary classification\n",
    "from numpy import vstack\n",
    "from pandas import read_csv\n",
    "from sklearn.preprocessing import LabelEncoder\n",
    "from sklearn.metrics import accuracy_score\n",
    "from torch.utils.data import Dataset\n",
    "from torch.utils.data import DataLoader\n",
    "from torch.utils.data import random_split\n",
    "from torch import Tensor\n",
    "from torch.nn import Linear\n",
    "from torch.nn import ReLU\n",
    "from torch.nn import Sigmoid\n",
    "from torch.nn import Module\n",
    "from torch.optim import SGD\n",
    "from torch.nn import BCELoss\n",
    "from torch.nn.init import kaiming_uniform_\n",
    "from torch.nn.init import xavier_uniform_\n",
    "\n",
    "# dataset definition\n",
    "class CSVDataset(Dataset):\n",
    "    # load the dataset\n",
    "    def __init__(self, path):\n",
    "        # load the csv file as a dataframe\n",
    "        df = read_csv(path, header=None)\n",
    "        # store the inputs and outputs\n",
    "        self.X = df.values[:, :-1]\n",
    "        self.y = df.values[:, -1]\n",
    "        # ensure input data is floats\n",
    "        self.X = self.X.astype('float32')\n",
    "        # label encode target and ensure the values are floats\n",
    "        self.y = LabelEncoder().fit_transform(self.y)\n",
    "        self.y = self.y.astype('float32')\n",
    "        self.y = self.y.reshape((len(self.y), 1))\n",
    "        print(\"Data load done ..\")\n",
    "\n",
    "    # number of rows in the dataset\n",
    "    def __len__(self):\n",
    "        return len(self.X)\n",
    "\n",
    "    # get a row at an index\n",
    "    def __getitem__(self, idx):\n",
    "        return [self.X[idx], self.y[idx]]\n",
    "\n",
    "    # get indexes for train and test rows\n",
    "    def get_splits(self, n_test=0.33):\n",
    "        # determine sizes\n",
    "        test_size = round(n_test * len(self.X))\n",
    "        train_size = len(self.X) - test_size\n",
    "        # calculate the split\n",
    "        return random_split(self, [train_size, test_size])\n",
    "\n",
    "# model definition\n",
    "class MLP(Module):\n",
    "    # define model elements\n",
    "    def __init__(self, n_inputs):\n",
    "        super(MLP, self).__init__()\n",
    "        # input to first hidden layer\n",
    "        self.hidden1 = Linear(n_inputs, 10)\n",
    "        kaiming_uniform_(self.hidden1.weight, nonlinearity='relu')\n",
    "        self.act1 = ReLU()\n",
    "        # second hidden layer\n",
    "        self.hidden2 = Linear(10, 8)\n",
    "        kaiming_uniform_(self.hidden2.weight, nonlinearity='relu')\n",
    "        self.act2 = ReLU()\n",
    "        # third hidden layer and output\n",
    "        self.hidden3 = Linear(8, 1)\n",
    "        xavier_uniform_(self.hidden3.weight)\n",
    "        self.act3 = Sigmoid()\n",
    "\n",
    "    # forward propagate input\n",
    "    def forward(self, X):\n",
    "        # input to first hidden layer\n",
    "        X = self.hidden1(X)\n",
    "        X = self.act1(X)\n",
    "         # second hidden layer\n",
    "        X = self.hidden2(X)\n",
    "        X = self.act2(X)\n",
    "        # third hidden layer and output\n",
    "        X = self.hidden3(X)\n",
    "        X = self.act3(X)\n",
    "        return X\n",
    "\n",
    "# prepare the dataset\n",
    "def prepare_data(path):\n",
    "    # load the dataset\n",
    "    print(\"Preparing the data ...\")\n",
    "    dataset = CSVDataset(path)\n",
    "    # calculate split\n",
    "    train, test = dataset.get_splits()\n",
    "    # prepare data loaders\n",
    "    train_dl = DataLoader(train, batch_size=32, shuffle=True)\n",
    "    test_dl = DataLoader(test, batch_size=1024, shuffle=False)\n",
    "    print(\"Train test slit done ...\")\n",
    "    return train_dl, test_dl\n",
    "\n",
    "# train the model\n",
    "def train_model(train_dl, model):\n",
    "    # define the optimization\n",
    "    criterion = BCELoss()\n",
    "    optimizer = SGD(model.parameters(), lr=0.01, momentum=0.9)\n",
    "    # enumerate epochs\n",
    "    for epoch in range(100):\n",
    "        # enumerate mini batches\n",
    "        for i, (inputs, targets) in enumerate(train_dl):\n",
    "            # clear the gradients\n",
    "            optimizer.zero_grad()\n",
    "            # compute the model output\n",
    "            yhat = model(inputs)\n",
    "            # calculate loss\n",
    "            loss = criterion(yhat, targets)\n",
    "            # credit assignment\n",
    "            loss.backward()\n",
    "            # update model weights\n",
    "            optimizer.step()\n",
    "\n",
    "# evaluate the model\n",
    "def evaluate_model(test_dl, model):\n",
    "    predictions, actuals = list(), list()\n",
    "    for i, (inputs, targets) in enumerate(test_dl):\n",
    "        # evaluate the model on the test set\n",
    "        yhat = model(inputs)\n",
    "        # retrieve numpy array\n",
    "        yhat = yhat.detach().numpy()\n",
    "        actual = targets.numpy()\n",
    "        actual = actual.reshape((len(actual), 1))\n",
    "        # round to class values\n",
    "        yhat = yhat.round()\n",
    "        # store\n",
    "        predictions.append(yhat)\n",
    "        actuals.append(actual)\n",
    "    predictions, actuals = vstack(predictions), vstack(actuals)\n",
    "    # calculate accuracy\n",
    "    acc = accuracy_score(actuals, predictions)\n",
    "    return acc\n",
    "\n",
    "# make a class prediction for one row of data\n",
    "def predict(row, model):\n",
    "    # convert row to data\n",
    "    row = Tensor([row])\n",
    "    # make prediction\n",
    "    yhat = model(row)\n",
    "    # retrieve numpy array\n",
    "    yhat = yhat.detach().numpy()\n",
    "    return yhat\n",
    "\n"
   ]
  },
  {
   "cell_type": "code",
   "execution_count": 53,
   "id": "408e562c-bc4a-42e6-9ea3-dc009b872cff",
   "metadata": {
    "tags": []
   },
   "outputs": [
    {
     "name": "stdout",
     "output_type": "stream",
     "text": [
      "Preparing the data ...\n",
      "Data load done ..\n",
      "Train test slit done ...\n",
      "235 116\n",
      "Accuracy: 0.914\n",
      "Predicted: 0.993 (class=1)\n"
     ]
    }
   ],
   "source": [
    "# prepare the data\n",
    "path = 'data.csv'\n",
    "train_dl, test_dl = prepare_data(path)\n",
    "print(len(train_dl.dataset), len(test_dl.dataset))\n",
    "# # define the network\n",
    "model = MLP(34)\n",
    "# # train the model\n",
    "train_model(train_dl, model)\n",
    "# # evaluate the model\n",
    "acc = evaluate_model(test_dl, model)\n",
    "print('Accuracy: %.3f' % acc)\n",
    "# # make a single prediction (expect class=1)\n",
    "row = [1,0,0.99539,-0.05889,0.85243,0.02306,0.83398,-0.37708,1,0.03760,0.85243,-0.17755,0.59755,-0.44945,0.60536,-0.38223,0.84356,-0.38542,0.58212,-0.32192,0.56971,-0.29674,0.36946,-0.47357,0.56811,-0.51171,0.41078,-0.46168,0.21266,-0.34090,0.42267,-0.54487,0.18641,-0.45300]\n",
    "yhat = predict(row, model)\n",
    "print('Predicted: %.3f (class=%d)' % (yhat, yhat.round()))"
   ]
  },
  {
   "cell_type": "code",
   "execution_count": 56,
   "id": "f2010957-8514-496a-856e-14e93b867018",
   "metadata": {
    "tags": []
   },
   "outputs": [
    {
     "name": "stdout",
     "output_type": "stream",
     "text": [
      "inp : 32\n",
      "target :32\n",
      "inp : 32\n",
      "target :32\n",
      "inp : 32\n",
      "target :32\n",
      "inp : 32\n",
      "target :32\n",
      "inp : 32\n",
      "target :32\n",
      "inp : 32\n",
      "target :32\n",
      "inp : 32\n",
      "target :32\n",
      "inp : 11\n",
      "target :11\n"
     ]
    }
   ],
   "source": [
    "for i, (inputs, targets) in enumerate(train_dl):\n",
    "    print(\"inp : {}\\ntarget :{}\".format(len(inputs), len(targets)))"
   ]
  },
  {
   "cell_type": "code",
   "execution_count": null,
   "id": "7c8c7027-fb96-4b43-ad0a-17fc3907b566",
   "metadata": {},
   "outputs": [],
   "source": []
  }
 ],
 "metadata": {
  "kernelspec": {
   "display_name": "spice",
   "language": "python",
   "name": "spice"
  },
  "language_info": {
   "codemirror_mode": {
    "name": "ipython",
    "version": 3
   },
   "file_extension": ".py",
   "mimetype": "text/x-python",
   "name": "python",
   "nbconvert_exporter": "python",
   "pygments_lexer": "ipython3",
   "version": "3.10.9"
  }
 },
 "nbformat": 4,
 "nbformat_minor": 5
}
