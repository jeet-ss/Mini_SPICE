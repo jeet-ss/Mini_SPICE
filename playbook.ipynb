{
 "cells": [
  {
   "cell_type": "markdown",
   "id": "fa5ab8b9-c7cd-4a10-8455-a451fddb6f2f",
   "metadata": {
    "jp-MarkdownHeadingCollapsed": true,
    "tags": []
   },
   "source": [
    "## RPA"
   ]
  },
  {
   "cell_type": "code",
   "execution_count": 13,
   "id": "c88c4a1e-5294-433e-9bec-220611ac1c48",
   "metadata": {
    "tags": []
   },
   "outputs": [],
   "source": [
    "import pandas as pd\n",
    "from utils.model import Spice_Encoder\n",
    "import torch\n",
    "from data_files.dataset import CQT_Dataset\n",
    "from torch.utils.data import DataLoader\n",
    "from data_files.dataloader import MedleyDBLoader, MDBMelodySynthLoader, MIR1KLoader"
   ]
  },
  {
   "cell_type": "code",
   "execution_count": 14,
   "id": "18b92ad0-0f6e-469a-ab06-1f924bac5e36",
   "metadata": {
    "tags": []
   },
   "outputs": [],
   "source": [
    "def output2hz(pitch_output):\n",
    "  # Constants taken from https://tfhub.dev/google/spice/2\n",
    "  PT_OFFSET = 25.58\n",
    "  PT_SLOPE = 63.07\n",
    "  FMIN = 10.0    #why is it 10, not 110?\n",
    "  BINS_PER_OCTAVE = 12.0  \n",
    "  cqt_bin = pitch_output * PT_SLOPE + PT_OFFSET;\n",
    "  return FMIN * 2.0 ** (1.0 * cqt_bin / BINS_PER_OCTAVE)"
   ]
  },
  {
   "cell_type": "code",
   "execution_count": 43,
   "id": "d0333cbd-7709-4c5a-bbda-233903af34a7",
   "metadata": {
    "tags": []
   },
   "outputs": [
    {
     "data": {
      "text/plain": [
       "<All keys matched successfully>"
      ]
     },
     "execution_count": 43,
     "metadata": {},
     "output_type": "execute_result"
    }
   ],
   "source": [
    "import torch\n",
    "from utils.model import Spice_model\n",
    "\n",
    "model = Spice_model([1, 64, 128, 256, 512, 512, 512], [512, 512, 512, 256, 128, 64, 1], [True, True, True, True, True, True])\n",
    "checkpoint = torch.load('./rev_1k_checkpoints/checkpoint_mir_643.ckp', 'cuda' if torch.cuda.is_available() else 'cpu')\n",
    "model.load_state_dict(checkpoint['state_dict'])"
   ]
  },
  {
   "cell_type": "code",
   "execution_count": 2,
   "id": "5c162e68-7389-45c6-8f3b-bda46c809ff4",
   "metadata": {
    "tags": []
   },
   "outputs": [],
   "source": [
    "from data_files.dataloader import MedleyDBLoader, MDBMelodySynthLoader, MIR1KLoader"
   ]
  },
  {
   "cell_type": "code",
   "execution_count": 52,
   "id": "c84f8837-aff2-4dc7-b84d-1bdb3b08c066",
   "metadata": {
    "tags": []
   },
   "outputs": [],
   "source": [
    "pitch_h,conf_h,x_hat = model(torch.randn((10,128)))"
   ]
  },
  {
   "cell_type": "code",
   "execution_count": 15,
   "id": "3aafd3f2-9c83-499a-ab31-6e152fb7c6da",
   "metadata": {
    "tags": []
   },
   "outputs": [
    {
     "name": "stdout",
     "output_type": "stream",
     "text": [
      "(3, 355) (1, 114177)\n"
     ]
    }
   ],
   "source": [
    "fs = 16000\n",
    "mir1k = MIR1KLoader(fs)\n",
    "my_id = 'abjones_1_03'\n",
    "# datasets/MIR-1K-Stem/Wavfile/abjones_1_03.wav\n",
    "x_audio, f0 = mir1k.load_data(my_id)\n",
    "print(f0.shape, x_audio.shape)"
   ]
  },
  {
   "cell_type": "code",
   "execution_count": 16,
   "id": "d14e7f4f-6015-4fb1-8922-95255ba745b3",
   "metadata": {
    "tags": []
   },
   "outputs": [],
   "source": [
    "x_audio = x_audio.squeeze(axis=0)"
   ]
  },
  {
   "cell_type": "code",
   "execution_count": 17,
   "id": "7bac2f89-1243-49b6-923f-19037c1343ff",
   "metadata": {
    "tags": []
   },
   "outputs": [
    {
     "data": {
      "text/plain": [
       "array([0., 0., 0., 0., 0., 0., 0., 0., 0., 0., 0., 1., 1., 1., 1., 1., 1.,\n",
       "       1., 1., 1., 1., 1., 1., 1., 1., 1., 1., 1., 1., 1., 1., 1., 1., 1.,\n",
       "       1., 1., 1., 1., 1., 1., 1., 1., 1., 1., 1., 1., 1., 1., 1., 1., 1.,\n",
       "       1., 1., 1., 1., 1., 1., 1., 1., 1., 0., 1., 1., 1., 1., 1., 1., 1.,\n",
       "       1., 1., 1., 1., 1., 1., 1., 1., 1., 1., 1., 1., 1., 1., 1., 1., 1.,\n",
       "       1., 1., 1., 1., 1., 1., 1., 1., 0., 1., 1., 1., 1., 1., 1., 1., 1.,\n",
       "       1., 1., 1., 1., 1., 1., 1., 1., 1., 1., 1., 1., 1., 1., 1., 1., 1.,\n",
       "       1., 1., 1., 1., 1., 1., 1., 1., 1., 1., 1., 1., 1., 1., 1., 1., 1.,\n",
       "       1., 1., 1., 1., 0., 0., 0., 0., 0., 0., 0., 0., 0., 0., 0., 0., 0.,\n",
       "       0., 0., 0., 0., 0., 0., 0., 0., 0., 0., 0., 0., 0., 0., 0., 0., 0.,\n",
       "       0., 0., 0., 0., 0., 1., 1., 1., 1., 1., 1., 1., 1., 1., 1., 1., 1.,\n",
       "       1., 1., 1., 1., 1., 1., 1., 1., 1., 1., 1., 1., 1., 1., 1., 1., 1.,\n",
       "       1., 1., 1., 1., 1., 1., 1., 1., 1., 1., 1., 1., 1., 1., 1., 1., 1.,\n",
       "       1., 1., 1., 1., 1., 1., 1., 1., 1., 1., 1., 1., 1., 1., 1., 1., 1.,\n",
       "       1., 1., 1., 1., 1., 0., 0., 0., 0., 0., 0., 0., 0., 0., 0., 0., 1.,\n",
       "       1., 1., 1., 1., 1., 1., 1., 1., 1., 1., 1., 1., 1., 1., 1., 1., 1.,\n",
       "       1., 1., 1., 1., 1., 1., 1., 1., 1., 1., 1., 1., 1., 1., 1., 1., 0.,\n",
       "       1., 1., 1., 1., 1., 1., 1., 1., 1., 1., 1., 0., 1., 1., 1., 1., 1.,\n",
       "       1., 1., 1., 1., 1., 1., 1., 1., 1., 1., 1., 1., 1., 1., 1., 1., 1.,\n",
       "       1., 1., 1., 1., 1., 1., 1., 1., 1., 0., 0., 0., 0., 0., 0., 0., 0.,\n",
       "       0., 0., 0., 0., 0., 0., 0., 0., 0., 0., 0., 0., 0., 0., 0.])"
      ]
     },
     "execution_count": 17,
     "metadata": {},
     "output_type": "execute_result"
    },
    {
     "data": {
      "image/png": "[encoded data removed]",
      "text/plain": [
       "<Figure size 640x480 with 1 Axes>"
      ]
     },
     "metadata": {},
     "output_type": "display_data"
    }
   ],
   "source": [
    "audio_samples = x_audio\n",
    "from matplotlib import pyplot as plt\n",
    "_ = plt.plot(audio_samples)\n",
    "\n",
    "f0[1]"
   ]
  },
  {
   "cell_type": "code",
   "execution_count": 18,
   "id": "d94604b3-5864-489d-b09d-6209aa860ac3",
   "metadata": {
    "tags": []
   },
   "outputs": [],
   "source": [
    "def Cqt_song(songs, f0_list):\n",
    "    fs = 16000\n",
    "    hop_len = 512\n",
    "    # Convert to CQT array and concat\n",
    "    Cqtt = np.zeros((1, 190))\n",
    "    voicing_interp = np.zeros(1)\n",
    "    F0_interp = np.zeros(1)\n",
    "    for s, f in zip(songs, f0_list):\n",
    "        C = np.abs(librosa.cqt(s, sr=fs, hop_length=hop_len, \n",
    "                    #window=librosa.filters.get_window('hann', Nx=1024, fftbins=False), \n",
    "                    fmin= librosa.note_to_hz('C1'),\n",
    "                    n_bins=190, bins_per_octave=24))\n",
    "        #print(\"CQT shape: \", C.shape)\n",
    "        Cqtt = np.vstack((Cqtt, C.T))\n",
    "        # interpolate f0 for labels \n",
    "        interpolator = scipy.interpolate.interp1d(x=f[0], y=f[2], axis=0, fill_value = 'extrapolate')\n",
    "        interp_time = np.arange(0, C.shape[1], 1)*hop_len/fs\n",
    "        f0_new = interpolator(interp_time)\n",
    "        F0_interp = np.concatenate((F0_interp, f0_new))\n",
    "        \n",
    "        # interpolate voicing for labels \n",
    "        interpolator_voice = scipy.interpolate.interp1d(x=f[0], y=f[1], axis=0, fill_value = 'extrapolate')\n",
    "        uv_new = interpolator_voice(interp_time)\n",
    "        voicing_interp = np.concatenate((voicing_interp, uv_new))\n",
    "        #print(\"F0 interpolated shape: \", f0_new)data_pd = pd.DataFrame(data=data_np) \n",
    "    #print(\"CQT & F0 Shape: \", Cqtt.shape, F0_interp.shape)\n",
    "    return interp_time, Cqtt, F0_interp, voicing_interp\n",
    "\n",
    "def Cqt_loader_frame(cqt_full):\n",
    "    # return for each Cqt frame\n",
    "    k_min, k_max, F_bins = 0, 8, 128\n",
    "    k_1, k_2 = np.random.randint(k_min, k_max), np.random.randint(k_min, k_max)\n",
    "    # return abs differrence, and two cqt slices of 128 length\n",
    "    return np.abs(k_1 - k_2), cqt_full[k_1: k_1 + F_bins], cqt_full[k_2: k_2 + F_bins]\n",
    "\n",
    "def Cqt_loader(cqt):\n",
    "    s1_list = np.zeros(128)\n",
    "    s2_list = np.zeros(128)\n",
    "    diff_list = np.zeros(1)\n",
    "    for i in range(len(cqt)):\n",
    "        diff, s1, s2 = Cqt_loader_frame(cqt[i, :].squeeze())\n",
    "        s1_list = np.vstack((s1_list, s1))\n",
    "        s2_list = np.vstack((s2_list, s2))\n",
    "        diff_list = np.vstack((diff_list, diff))\n",
    "    \n",
    "    return s1_list[1:], s2_list[1:], diff_list[1:]"
   ]
  },
  {
   "cell_type": "code",
   "execution_count": 29,
   "id": "5fa46c05-4723-44e7-95e7-325d561a97eb",
   "metadata": {
    "tags": []
   },
   "outputs": [
    {
     "name": "stdout",
     "output_type": "stream",
     "text": [
      "Cqt Shape: (225, 190), F0 Interpolated Shape: (225,)\n",
      "Slice shape: (225, 128), Difference shape:(225, 1)\n",
      "(224,) (225,)\n"
     ]
    }
   ],
   "source": [
    "import numpy as np\n",
    "import librosa\n",
    "import scipy\n",
    "t,x,y, vu  = Cqt_song([audio_samples], [f0])\n",
    "print(f'Cqt Shape: {x.shape}, F0 Interpolated Shape: {y.shape}')\n",
    "s1, s2, diff = Cqt_loader(x)\n",
    "print(f'Slice shape: {s1.shape}, Difference shape:{diff.shape}')\n",
    "print(t.shape,y.shape)\n",
    "# def step_func(n, threshold=0.5):\n",
    "#     if n < threshold:\n",
    "#         return 0.\n",
    "#     if n >= threshold:\n",
    "#         return 1.\n",
    "# applyall = np.vectorize(step_func)\n",
    "# res = applyall(vu)\n",
    "\n",
    "# print(\"{}\\n{}\".format(vu,res))  # This will output 1.0"
   ]
  },
  {
   "cell_type": "code",
   "execution_count": 60,
   "id": "3ae95000-d411-4046-9528-c2585b20c040",
   "metadata": {
    "tags": []
   },
   "outputs": [
    {
     "data": {
      "text/plain": [
       "0.0"
      ]
     },
     "execution_count": 60,
     "metadata": {},
     "output_type": "execute_result"
    }
   ],
   "source": [
    "y_hat = np.apply_along_axis(output2hz, 0, pitch_h.detach().numpy())\n",
    "y_hat_cent = np.apply_along_axis(mir_eval.melody.hz2cents, 0, y_hat)\n",
    "y_hat_voice = np.random.randint(2, size=y_hat.shape)\n",
    "y = np.random.uniform(low=40, high=65, size=(10,1)) #extrapolate back to time\n",
    "y_cent = np.apply_along_axis(mir_eval.melody.hz2cents, 0, y)\n",
    "y_voice = np.random.randint(2, size=y.shape)\n",
    "raw_pitch_accuracy = mir_eval.melody.raw_pitch_accuracy(y_voice, y_cent, y_hat_voice, y_hat_cent)\n",
    "raw_pitch_accuracy"
   ]
  },
  {
   "cell_type": "code",
   "execution_count": 28,
   "id": "8e8717f5-d83d-4b01-a7d8-81980bfd3833",
   "metadata": {
    "tags": []
   },
   "outputs": [
    {
     "data": {
      "text/plain": [
       "array([111, 222, 222])"
      ]
     },
     "execution_count": 28,
     "metadata": {},
     "output_type": "execute_result"
    }
   ],
   "source": [
    "aa = np.array([111, 222,222,222,333])\n",
    "bb = np.array([1,0,1,1,0])\n",
    "aa[np.nonzero(aa*bb)]"
   ]
  },
  {
   "cell_type": "code",
   "execution_count": 54,
   "id": "bae71185-9ec2-44bb-8998-f34480667bfb",
   "metadata": {
    "tags": []
   },
   "outputs": [],
   "source": [
    "import mir_eval \n",
    "# raw_pitch_accuracy = mir_eval.melody.raw_pitch_accuracy(y, y_hat)\n",
    "\n",
    "def raw_pitch_accuracy(ground_truth, pred):\n",
    "    pitch_difference = np.abs(ground_truth - pred)\n",
    "    half_semitone_threshold = ground_truth*2 ** (1/24) - ground_truth\n",
    "\n",
    "    error_arr = np.subtract(pitch_difference, half_semitone_threshold)\n",
    "    count_error = (error_arr > 0.0).sum()\n",
    "    print(error_arr)\n",
    "    percentage = (count_error / len(ground_truth)) * 100\n",
    "    return percentage\n"
   ]
  },
  {
   "cell_type": "code",
   "execution_count": 55,
   "id": "e157e21d-266f-4461-8849-cd0f4a206efe",
   "metadata": {
    "tags": []
   },
   "outputs": [
    {
     "name": "stdout",
     "output_type": "stream",
     "text": [
      "[[15.1846428 ]\n",
      " [16.97339592]\n",
      " [26.01562903]\n",
      " [29.50201205]\n",
      " [27.44755152]\n",
      " [13.49949293]\n",
      " [25.61517218]\n",
      " [11.4925144 ]\n",
      " [24.66010954]\n",
      " [27.61804359]]\n"
     ]
    },
    {
     "data": {
      "text/plain": [
       "100.0"
      ]
     },
     "execution_count": 55,
     "metadata": {},
     "output_type": "execute_result"
    }
   ],
   "source": [
    "raw_pitch_accuracy(y,y_hat)"
   ]
  },
  {
   "cell_type": "markdown",
   "id": "ae3dc8e2-b722-491c-9098-889661c0907b",
   "metadata": {
    "tags": []
   },
   "source": [
    "## Calibration"
   ]
  },
  {
   "cell_type": "code",
   "execution_count": 22,
   "id": "64b1770b-31f2-4bc5-9f0b-85d2451d0f42",
   "metadata": {
    "tags": []
   },
   "outputs": [],
   "source": [
    "import math\n",
    "import random\n",
    "import numpy as np\n",
    "from IPython.display import Audio\n",
    "def pick_semitone_freq(low, high):\n",
    "    semitone_ratio = 2 ** (1/12)\n",
    "    semitone_freq_list = []\n",
    "    \n",
    "    current_freq = low\n",
    "    while current_freq <= high:\n",
    "        semitone_freq_list.append(current_freq)\n",
    "        current_freq *= semitone_ratio\n",
    "    \n",
    "    return random.choice(semitone_freq_list)\n",
    "\n",
    "# pick_semitone_freq(110, 440)\n",
    "\n",
    "def generate_harmonic_wave(fundamental_freq, sampling_rate=16000, N=11, H=512):\n",
    "    amplitude_f0 = np.random.normal(0, 1)\n",
    "    t = np.linspace(0, (N*H) / sampling_rate, (N*H), endpoint=False)\n",
    "    fundamental_signal = amplitude_f0*np.sin(2 * np.pi * fundamental_freq * t)\n",
    "    harmonic_signal = fundamental_signal.copy()\n",
    "    \n",
    "\n",
    "    for i in range(2, 4):  \n",
    "        frequency = fundamental_freq * i\n",
    "        random_phase = random.uniform(0, 2 * math.pi)\n",
    "        harmonic_signal += random.uniform(0, 1) * np.sin(2 * np.pi * frequency * t+random_phase)\n",
    "\n",
    "    return harmonic_signal"
   ]
  },
  {
   "cell_type": "code",
   "execution_count": 23,
   "id": "5476cfcb-e80e-4827-a6a2-a9eba9bfad78",
   "metadata": {},
   "outputs": [],
   "source": [
    "class Generator():\n",
    "    def __init__(self,M,low=110,high=440):\n",
    "        self.M = M\n",
    "        self.low = low\n",
    "        self.high = high\n",
    "        \n",
    "    def generate(self):\n",
    "        samples = []\n",
    "        labels = []\n",
    "        for i in range(self.M):\n",
    "            f0 = pick_semitone_freq(self.low,self.high)\n",
    "            wave = generate_harmonic_wave(f0)\n",
    "            samples.append(wave)\n",
    "            labels.append(f0)\n",
    "        \n",
    "        return np.array(samples), np.array(labels)\n",
    "    \n",
    "    \n",
    "        "
   ]
  },
  {
   "cell_type": "code",
   "execution_count": 20,
   "id": "a88d995b-9719-42f1-8409-e593d9030345",
   "metadata": {
    "tags": []
   },
   "outputs": [
    {
     "data": {
      "text/plain": [
       "array([220.        , 261.6255653 , 195.99771799, 246.94165063,\n",
       "       195.99771799])"
      ]
     },
     "execution_count": 20,
     "metadata": {},
     "output_type": "execute_result"
    }
   ],
   "source": [
    "import pandas as pd\n",
    "genrator = Generator(5)\n",
    "# my_data_wave = []\n",
    "# my_data_label = []\n",
    "wave, f0 = genrator.generate() #5*11*512\n",
    "# data = np.hstack((wave, f0))\n",
    "# data = pd.DataFrame(data=data)\n",
    "f0"
   ]
  },
  {
   "cell_type": "code",
   "execution_count": 21,
   "id": "72134023-c876-4090-8ba5-6caee908381a",
   "metadata": {
    "tags": []
   },
   "outputs": [
    {
     "data": {
      "text/html": [
       "\n",
       "                <audio  controls=\"controls\" >\n",
       "                    <source src=\"data:audio/wav;base64,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\" type=\"audio/wav\" />\n",
       "                    Your browser does not support the audio element.\n",
       "                </audio>\n",
       "              "
      ],
      "text/plain": [
       "<IPython.lib.display.Audio object>"
      ]
     },
     "execution_count": 21,
     "metadata": {},
     "output_type": "execute_result"
    }
   ],
   "source": [
    "Audio(wave[3], rate=16000)"
   ]
  },
  {
   "cell_type": "code",
   "execution_count": 10,
   "id": "268521fc-8d2c-4501-bf50-17eb1c26d734",
   "metadata": {
    "tags": []
   },
   "outputs": [
    {
     "name": "stderr",
     "output_type": "stream",
     "text": [
      "/home/hpc/iwal/iwal132h/spice/lib/python3.10/site-packages/librosa/core/spectrum.py:256: UserWarning: n_fft=256 is too large for input signal of length=176\n",
      "  warnings.warn(\n",
      "/home/hpc/iwal/iwal132h/spice/lib/python3.10/site-packages/librosa/core/spectrum.py:256: UserWarning: n_fft=256 is too large for input signal of length=88\n",
      "  warnings.warn(\n",
      "/home/hpc/iwal/iwal132h/spice/lib/python3.10/site-packages/librosa/core/spectrum.py:256: UserWarning: n_fft=256 is too large for input signal of length=44\n",
      "  warnings.warn(\n"
     ]
    },
    {
     "name": "stdout",
     "output_type": "stream",
     "text": [
      "CQT & F0 Shape:  (60, 190) (60, 1)\n"
     ]
    }
   ],
   "source": [
    "import librosa\n",
    "Cqtt = np.zeros((1, 190))\n",
    "F0 = np.zeros(1)\n",
    "for s, f in zip(wave, f0):\n",
    "    C = np.abs(librosa.cqt(wave[0], sr=16000, hop_length=512, \n",
    "                fmin= librosa.note_to_hz('C1'),\n",
    "                n_bins=190, bins_per_octave=24))\n",
    "    Cqtt = np.vstack((Cqtt, C.T))\n",
    "    f0 = np.repeat(f, C.shape[1])\n",
    "    F0 = np.concatenate((F0, f0))\n",
    "Cqtt = Cqtt[1:, :]\n",
    "F0 = F0[1:].reshape(-1, 1)\n",
    "print(\"CQT & F0 Shape: \", Cqtt.shape, F0.shape)\n",
    "data_np = np.hstack((Cqtt, F0))\n",
    "df = pd.DataFrame(data=data_np)"
   ]
  },
  {
   "cell_type": "code",
   "execution_count": 11,
   "id": "b251669f-c132-4c1a-8ace-7212f3704d57",
   "metadata": {
    "tags": []
   },
   "outputs": [],
   "source": [
    "import torch\n",
    "from utils.model import Spice_model"
   ]
  },
  {
   "cell_type": "code",
   "execution_count": 12,
   "id": "5a7bed1e-c39b-448d-bbe2-4b2c6ce1a524",
   "metadata": {
    "tags": []
   },
   "outputs": [
    {
     "data": {
      "text/plain": [
       "<All keys matched successfully>"
      ]
     },
     "execution_count": 12,
     "metadata": {},
     "output_type": "execute_result"
    }
   ],
   "source": [
    "model_mir = Spice_model([1, 64, 128, 256, 512, 512, 512], [512, 512, 512, 256, 128, 64, 1], [True, True, True, True, True, True])\n",
    "checkpoint = torch.load('./rev_1k_checkpoints/checkpoint_mir_643.ckp', 'cuda' if torch.cuda.is_available() else 'cpu')\n",
    "model_mir.load_state_dict(checkpoint['state_dict'])"
   ]
  },
  {
   "cell_type": "code",
   "execution_count": 13,
   "id": "cdcc7e88-df47-4fb0-8564-cadf881c4411",
   "metadata": {
    "tags": []
   },
   "outputs": [
    {
     "name": "stdout",
     "output_type": "stream",
     "text": [
      "b + s*-0.1004272848367691 = 54.51317942364757\n",
      "b + s*-0.09968852251768112 = 54.51317942364757\n",
      "b + s*-0.10148018598556519 = 54.51317942364757\n",
      "b + s*-0.10171995311975479 = 54.51317942364757\n",
      "b + s*-0.10187465697526932 = 54.51317942364757\n",
      "b + s*-0.10193181037902832 = 54.51317942364757\n",
      "b + s*-0.10197247564792633 = 54.51317942364757\n",
      "b + s*-0.10203878581523895 = 54.51317942364757\n",
      "b + s*-0.1020980030298233 = 54.51317942364757\n",
      "b + s*-0.10191771388053894 = 54.51317942364757\n",
      "b + s*-0.10011204332113266 = 54.51317942364757\n",
      "b + s*-0.10074761509895325 = 54.51317942364757\n",
      "b + s*-0.1004272848367691 = 46.51317942364757\n",
      "b + s*-0.09968852251768112 = 46.51317942364757\n",
      "b + s*-0.10148018598556519 = 46.51317942364757\n",
      "b + s*-0.10171995311975479 = 46.51317942364757\n",
      "b + s*-0.10187465697526932 = 46.51317942364757\n",
      "b + s*-0.10193181037902832 = 46.51317942364757\n",
      "b + s*-0.10197247564792633 = 46.51317942364757\n",
      "b + s*-0.10203878581523895 = 46.51317942364757\n",
      "b + s*-0.1020980030298233 = 46.51317942364757\n",
      "b + s*-0.10191771388053894 = 46.51317942364757\n",
      "b + s*-0.10011204332113266 = 46.51317942364757\n",
      "b + s*-0.10074761509895325 = 46.51317942364757\n",
      "b + s*-0.1004272848367691 = 51.51317942364757\n",
      "b + s*-0.09968852251768112 = 51.51317942364757\n",
      "b + s*-0.10148018598556519 = 51.51317942364757\n",
      "b + s*-0.10171995311975479 = 51.51317942364757\n",
      "b + s*-0.10187465697526932 = 51.51317942364757\n",
      "b + s*-0.10193181037902832 = 51.51317942364757\n",
      "b + s*-0.10197247564792633 = 51.51317942364757\n",
      "b + s*-0.10203878581523895 = 51.51317942364757\n",
      "b + s*-0.1020980030298233 = 51.51317942364757\n",
      "b + s*-0.10191771388053894 = 51.51317942364757\n",
      "b + s*-0.10011204332113266 = 51.51317942364757\n",
      "b + s*-0.10074761509895325 = 51.51317942364757\n",
      "b + s*-0.1004272848367691 = 41.51317942364757\n",
      "b + s*-0.09968852251768112 = 41.51317942364757\n",
      "b + s*-0.10148018598556519 = 41.51317942364757\n",
      "b + s*-0.10171995311975479 = 41.51317942364757\n",
      "b + s*-0.10187465697526932 = 41.51317942364757\n",
      "b + s*-0.10193181037902832 = 41.51317942364757\n",
      "b + s*-0.10197247564792633 = 41.51317942364757\n",
      "b + s*-0.10203878581523895 = 41.51317942364757\n",
      "b + s*-0.1020980030298233 = 41.51317942364757\n",
      "b + s*-0.10191771388053894 = 41.51317942364757\n",
      "b + s*-0.10011204332113266 = 41.51317942364757\n",
      "b + s*-0.10074761509895325 = 41.51317942364757\n",
      "b + s*-0.1004272848367691 = 51.51317942364757\n",
      "b + s*-0.09968852251768112 = 51.51317942364757\n",
      "b + s*-0.10148018598556519 = 51.51317942364757\n",
      "b + s*-0.10171995311975479 = 51.51317942364757\n",
      "b + s*-0.10187465697526932 = 51.51317942364757\n",
      "b + s*-0.10193181037902832 = 51.51317942364757\n",
      "b + s*-0.10197247564792633 = 51.51317942364757\n",
      "b + s*-0.10203878581523895 = 51.51317942364757\n",
      "b + s*-0.1020980030298233 = 51.51317942364757\n",
      "b + s*-0.10191771388053894 = 51.51317942364757\n",
      "b + s*-0.10011204332113266 = 51.51317942364757\n",
      "b + s*-0.10074761509895325 = 51.51317942364757\n"
     ]
    }
   ],
   "source": [
    "A = []\n",
    "B = []\n",
    "for row in data_np:\n",
    "    pitch_h1,conf_h1,x_hat1 = model_mir(torch.from_numpy(row[0:128].reshape(1,128)).float())\n",
    "    coeff_x = [1,pitch_h1.detach().numpy()[0][0]]\n",
    "    y = 12*math.log(row[-1]/10,2)\n",
    "    A.append(coeff_x)\n",
    "    B.append(y)\n",
    "    eq = \"b + s*{} = {}\".format(pitch_h1.detach().numpy()[0][0], 12*math.log(row[-1]/10,2))\n",
    "    print(eq)"
   ]
  },
  {
   "cell_type": "code",
   "execution_count": 16,
   "id": "4c8ad637-a7a3-4b99-9da0-09f2fe2c07d7",
   "metadata": {
    "tags": []
   },
   "outputs": [
    {
     "data": {
      "text/plain": [
       "(array([49.11317942, -0.        ]),\n",
       " array([1262.4]),\n",
       " 2,\n",
       " array([7.78563525, 0.00629845]))"
      ]
     },
     "execution_count": 16,
     "metadata": {},
     "output_type": "execute_result"
    }
   ],
   "source": [
    "import numpy as np\n",
    "\n",
    "A = np.array(A)\n",
    "b = np.array(B)\n",
    "\n",
    "x = np.linalg.lstsq(A, b, rcond=None)\n",
    "np.set_printoptions(suppress=True)\n",
    "b,s = x[0],x[1] \n",
    "# print(\"Solution b:{} Solution s:{}\".format(x[0],x[1]))\n",
    "x"
   ]
  },
  {
   "cell_type": "markdown",
   "id": "28680f44-a1c7-47f5-a401-4cc6bd1180cc",
   "metadata": {
    "tags": []
   },
   "source": [
    "## Generate Data fot Evaluation"
   ]
  },
  {
   "cell_type": "code",
   "execution_count": 7,
   "id": "d53cb699-e93f-4238-8375-53bed744f8da",
   "metadata": {
    "tags": []
   },
   "outputs": [
    {
     "name": "stdout",
     "output_type": "stream",
     "text": [
      "Traceback (most recent call last):\n",
      "  File \"/home/hpc/iwal/iwal132h/Mini_SPICE/generate_data.py\", line 2, in <module>\n",
      "    import librosa\n",
      "ModuleNotFoundError: No module named 'librosa'\n"
     ]
    }
   ],
   "source": [
    "import os\n",
    "os.chdir('/home/vault/iwal/iwal132h/data')\n",
    "os.getcwd()\n",
    "!python3 ~/Mini_SPICE/generate_data.py 16000"
   ]
  },
  {
   "cell_type": "markdown",
   "id": "c36bd496-e806-4d98-96f6-c29593259110",
   "metadata": {
    "jp-MarkdownHeadingCollapsed": true,
    "tags": []
   },
   "source": [
    "## torchhelp"
   ]
  },
  {
   "cell_type": "code",
   "execution_count": 49,
   "id": "17071423-7647-446a-8052-41436e3c3a56",
   "metadata": {
    "tags": []
   },
   "outputs": [],
   "source": [
    "# pytorch mlp for binary classification\n",
    "from numpy import vstack\n",
    "from pandas import read_csv\n",
    "from sklearn.preprocessing import LabelEncoder\n",
    "from sklearn.metrics import accuracy_score\n",
    "from torch.utils.data import Dataset\n",
    "from torch.utils.data import DataLoader\n",
    "from torch.utils.data import random_split\n",
    "from torch import Tensor\n",
    "from torch.nn import Linear\n",
    "from torch.nn import ReLU\n",
    "from torch.nn import Sigmoid\n",
    "from torch.nn import Module\n",
    "from torch.optim import SGD\n",
    "from torch.nn import BCELoss\n",
    "from torch.nn.init import kaiming_uniform_\n",
    "from torch.nn.init import xavier_uniform_\n",
    "\n",
    "# dataset definition\n",
    "class CSVDataset(Dataset):\n",
    "    # load the dataset\n",
    "    def __init__(self, path):\n",
    "        # load the csv file as a dataframe\n",
    "        df = read_csv(path, header=None)\n",
    "        # store the inputs and outputs\n",
    "        self.X = df.values[:, :-1]\n",
    "        self.y = df.values[:, -1]\n",
    "        # ensure input data is floats\n",
    "        self.X = self.X.astype('float32')\n",
    "        # label encode target and ensure the values are floats\n",
    "        self.y = LabelEncoder().fit_transform(self.y)\n",
    "        self.y = self.y.astype('float32')\n",
    "        self.y = self.y.reshape((len(self.y), 1))\n",
    "        print(\"Data load done ..\")\n",
    "\n",
    "    # number of rows in the dataset\n",
    "    def __len__(self):\n",
    "        return len(self.X)\n",
    "\n",
    "    # get a row at an index\n",
    "    def __getitem__(self, idx):\n",
    "        return [self.X[idx], self.y[idx]]\n",
    "\n",
    "    # get indexes for train and test rows\n",
    "    def get_splits(self, n_test=0.33):\n",
    "        # determine sizes\n",
    "        test_size = round(n_test * len(self.X))\n",
    "        train_size = len(self.X) - test_size\n",
    "        # calculate the split\n",
    "        return random_split(self, [train_size, test_size])\n",
    "\n",
    "# model definition\n",
    "class MLP(Module):\n",
    "    # define model elements\n",
    "    def __init__(self, n_inputs):\n",
    "        super(MLP, self).__init__()\n",
    "        # input to first hidden layer\n",
    "        self.hidden1 = Linear(n_inputs, 10)\n",
    "        kaiming_uniform_(self.hidden1.weight, nonlinearity='relu')\n",
    "        self.act1 = ReLU()\n",
    "        # second hidden layer\n",
    "        self.hidden2 = Linear(10, 8)\n",
    "        kaiming_uniform_(self.hidden2.weight, nonlinearity='relu')\n",
    "        self.act2 = ReLU()\n",
    "        # third hidden layer and output\n",
    "        self.hidden3 = Linear(8, 1)\n",
    "        xavier_uniform_(self.hidden3.weight)\n",
    "        self.act3 = Sigmoid()\n",
    "\n",
    "    # forward propagate input\n",
    "    def forward(self, X):\n",
    "        # input to first hidden layer\n",
    "        X = self.hidden1(X)\n",
    "        X = self.act1(X)\n",
    "         # second hidden layer\n",
    "        X = self.hidden2(X)\n",
    "        X = self.act2(X)\n",
    "        # third hidden layer and output\n",
    "        X = self.hidden3(X)\n",
    "        X = self.act3(X)\n",
    "        return X\n",
    "\n",
    "# prepare the dataset\n",
    "def prepare_data(path):\n",
    "    # load the dataset\n",
    "    print(\"Preparing the data ...\")\n",
    "    dataset = CSVDataset(path)\n",
    "    # calculate split\n",
    "    train, test = dataset.get_splits()\n",
    "    # prepare data loaders\n",
    "    train_dl = DataLoader(train, batch_size=32, shuffle=True)\n",
    "    test_dl = DataLoader(test, batch_size=1024, shuffle=False)\n",
    "    print(\"Train test slit done ...\")\n",
    "    return train_dl, test_dl\n",
    "\n",
    "# train the model\n",
    "def train_model(train_dl, model):\n",
    "    # define the optimization\n",
    "    criterion = BCELoss()\n",
    "    optimizer = SGD(model.parameters(), lr=0.01, momentum=0.9)\n",
    "    # enumerate epochs\n",
    "    for epoch in range(100):\n",
    "        # enumerate mini batches\n",
    "        for i, (inputs, targets) in enumerate(train_dl):\n",
    "            # clear the gradients\n",
    "            optimizer.zero_grad()\n",
    "            # compute the model output\n",
    "            yhat = model(inputs)\n",
    "            # calculate loss\n",
    "            loss = criterion(yhat, targets)\n",
    "            # credit assignment\n",
    "            loss.backward()\n",
    "            # update model weights\n",
    "            optimizer.step()\n",
    "\n",
    "# evaluate the model\n",
    "def evaluate_model(test_dl, model):\n",
    "    predictions, actuals = list(), list()\n",
    "    for i, (inputs, targets) in enumerate(test_dl):\n",
    "        # evaluate the model on the test set\n",
    "        yhat = model(inputs)\n",
    "        # retrieve numpy array\n",
    "        yhat = yhat.detach().numpy()\n",
    "        actual = targets.numpy()\n",
    "        actual = actual.reshape((len(actual), 1))\n",
    "        # round to class values\n",
    "        yhat = yhat.round()\n",
    "        # store\n",
    "        predictions.append(yhat)\n",
    "        actuals.append(actual)\n",
    "    predictions, actuals = vstack(predictions), vstack(actuals)\n",
    "    # calculate accuracy\n",
    "    acc = accuracy_score(actuals, predictions)\n",
    "    return acc\n",
    "\n",
    "# make a class prediction for one row of data\n",
    "def predict(row, model):\n",
    "    # convert row to data\n",
    "    row = Tensor([row])\n",
    "    # make prediction\n",
    "    yhat = model(row)\n",
    "    # retrieve numpy array\n",
    "    yhat = yhat.detach().numpy()\n",
    "    return yhat\n",
    "\n"
   ]
  },
  {
   "cell_type": "code",
   "execution_count": 53,
   "id": "408e562c-bc4a-42e6-9ea3-dc009b872cff",
   "metadata": {
    "tags": []
   },
   "outputs": [
    {
     "name": "stdout",
     "output_type": "stream",
     "text": [
      "Preparing the data ...\n",
      "Data load done ..\n",
      "Train test slit done ...\n",
      "235 116\n",
      "Accuracy: 0.914\n",
      "Predicted: 0.993 (class=1)\n"
     ]
    }
   ],
   "source": [
    "# prepare the data\n",
    "path = 'data.csv'\n",
    "train_dl, test_dl = prepare_data(path)\n",
    "print(len(train_dl.dataset), len(test_dl.dataset))\n",
    "# # define the network\n",
    "model = MLP(34)\n",
    "# # train the model\n",
    "train_model(train_dl, model)\n",
    "# # evaluate the model\n",
    "acc = evaluate_model(test_dl, model)\n",
    "print('Accuracy: %.3f' % acc)\n",
    "# # make a single prediction (expect class=1)\n",
    "row = [1,0,0.99539,-0.05889,0.85243,0.02306,0.83398,-0.37708,1,0.03760,0.85243,-0.17755,0.59755,-0.44945,0.60536,-0.38223,0.84356,-0.38542,0.58212,-0.32192,0.56971,-0.29674,0.36946,-0.47357,0.56811,-0.51171,0.41078,-0.46168,0.21266,-0.34090,0.42267,-0.54487,0.18641,-0.45300]\n",
    "yhat = predict(row, model)\n",
    "print('Predicted: %.3f (class=%d)' % (yhat, yhat.round()))"
   ]
  },
  {
   "cell_type": "code",
   "execution_count": 56,
   "id": "f2010957-8514-496a-856e-14e93b867018",
   "metadata": {
    "tags": []
   },
   "outputs": [
    {
     "name": "stdout",
     "output_type": "stream",
     "text": [
      "inp : 32\n",
      "target :32\n",
      "inp : 32\n",
      "target :32\n",
      "inp : 32\n",
      "target :32\n",
      "inp : 32\n",
      "target :32\n",
      "inp : 32\n",
      "target :32\n",
      "inp : 32\n",
      "target :32\n",
      "inp : 32\n",
      "target :32\n",
      "inp : 11\n",
      "target :11\n"
     ]
    }
   ],
   "source": [
    "for i, (inputs, targets) in enumerate(train_dl):\n",
    "    print(\"inp : {}\\ntarget :{}\".format(len(inputs), len(targets)))"
   ]
  },
  {
   "cell_type": "code",
   "execution_count": null,
   "id": "7c8c7027-fb96-4b43-ad0a-17fc3907b566",
   "metadata": {},
   "outputs": [],
   "source": []
  }
 ],
 "metadata": {
  "kernelspec": {
   "display_name": "spice",
   "language": "python",
   "name": "spice"
  },
  "language_info": {
   "codemirror_mode": {
    "name": "ipython",
    "version": 3
   },
   "file_extension": ".py",
   "mimetype": "text/x-python",
   "name": "python",
   "nbconvert_exporter": "python",
   "pygments_lexer": "ipython3",
   "version": "3.10.9"
  }
 },
 "nbformat": 4,
 "nbformat_minor": 5
}
